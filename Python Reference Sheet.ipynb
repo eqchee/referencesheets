{
 "cells": [
  {
   "cell_type": "markdown",
   "metadata": {},
   "source": [
    "# Python Reference Sheet"
   ]
  },
  {
   "cell_type": "markdown",
   "metadata": {},
   "source": [
    "# General"
   ]
  },
  {
   "cell_type": "code",
   "execution_count": null,
   "metadata": {},
   "outputs": [],
   "source": [
    "dir(__builtins__) #to see python built in functions (some listed below)\n",
    "dir(str)          #to see properties and methods for object/module\n",
    "help(str)         #to see help description for object\n",
    "help(str.join)    #to see help description for specific method\n",
    "\n",
    "float()           #Returns a floating point number\n",
    "int()             #Returns an integer number\n",
    "\n",
    "abs()             #Returns the absolute value of a number\n",
    "round()           #Rounds a float to int\n",
    "\n",
    "dict()            #Returns a dictionary (Array)\n",
    "list()            #Returns a list\n",
    "set()             #Returns a new set object\n",
    "str()             #Returns a string object\n",
    "tuple()           #Returns a tuple\n",
    "iter()            #Returns an iterator object\n",
    "next()            #Returns the next item in an iterable\n",
    "enumerate()       #Takes a collection (e.g. a tuple) and returns it as an enumerate object\n",
    "\n",
    "len()             #Returns the length of an object\n",
    "id()              #Returns the id (address in memory) of an object\n",
    "isinstance(\"test\", (float, int, str, list, dict, tuple))  #Returns True if object is an instance of a given object\n",
    "type()            #Returns the type of an object\n",
    "if type(i) in [int, float]   #eg to check data type using type()\n",
    "\n",
    "max()             #Returns the largest item in an iterable\n",
    "min()             #Returns the smallest item in an iterable\n",
    "sum()             #Sums the items of an iterator\n",
    "filter(function, iterable)       #Use a function to exclude items in an iterable object\n",
    "all()             #Returns True if all items in an iterable object are true\n",
    "any()             #Returns True if any item in an iterable object is true\n",
    "reversed()        #Returns a reversed iterator\n",
    "sorted(iterable, key=function, reverse = True)     #Returns a sorted list, sort by key if given, reverse True descending, \n",
    "zip()             #Returns an iterator, from two or more iterators\n",
    "\n",
    "chr()             #Returns a character from the specified Unicode code.\n",
    "ord()             #Convert an integer representing the Unicode of the given character\n",
    "\n",
    "format()          #Formats a specified value\n",
    "input()           #Allowing user input\n",
    "map()             #Returns the specified iterator with the specified function applied to each item\n",
    "a[:] = map(lambda x: -x, a)"
   ]
  },
  {
   "cell_type": "code",
   "execution_count": null,
   "metadata": {},
   "outputs": [],
   "source": [
    "a = b = c = 0    #multiple assignment\n",
    "a, b = b, a      #swapping values\n",
    "if 0 < a >= 10:  #chained comparison\n",
    "if a == b == c:  #chained comparison"
   ]
  },
  {
   "cell_type": "markdown",
   "metadata": {},
   "source": [
    "### Numbers"
   ]
  },
  {
   "cell_type": "code",
   "execution_count": null,
   "metadata": {},
   "outputs": [],
   "source": [
    "num % 10         #to get last digit\n",
    "num //10         #to remove last digit\n",
    "\n",
    "str(num)[-1]     #to get last digit\n",
    "str(num)[0:-1]   #to remove last digit\n",
    "\n",
    "variable = 6E4        #float in scientific notation "
   ]
  },
  {
   "cell_type": "markdown",
   "metadata": {},
   "source": [
    "### Operators"
   ]
  },
  {
   "cell_type": "markdown",
   "metadata": {},
   "source": [
    "<table class=\"table table-bordered\">\n",
    "<tr>\n",
    "<th style=\"width:10%\">Operator</th>\n",
    "<th style=\"width:15%\">Operation</th>\n",
    "<th>Description</th>\n",
    "<th style=\"width:10%\">Assignment</th>\n",
    "</tr>\n",
    "<tr>\n",
    "<td>+</td>\n",
    "<td>Addition</td>\n",
    "<td>Adds values of the two operands.</td>\n",
    "<td>+=</td>\n",
    "</tr>\n",
    "<tr>\n",
    "<td>-</td>\n",
    "<td>Subtraction</td>\n",
    "<td>Subtracts the operand on the right from the operand on the left.</td>\n",
    "<td>-=</td>\n",
    "</tr>\n",
    "<tr>\n",
    "<td>*</td>\n",
    "<td>Multiplication</td>\n",
    "<td>Multiplies the operand on the left by the operand on the right.</td>\n",
    "<td>*=</td>\n",
    "</tr>\n",
    "<tr>\n",
    "<td>/</td>\n",
    "<td>Division</td>\n",
    "<td>Divides the operand on the left by the operand on the right.</td>\n",
    "<td>/=</td>\n",
    "</tr>\n",
    "<tr>\n",
    "<td>%</td>\n",
    "<td>Modulo</td>\n",
    "<td>Divides the operand on the left by the operand on the right and returns the remainder. <b>Always return float.</b></td>\n",
    "<td>%=</td>\n",
    "</tr>\n",
    "<tr>\n",
    "<td>**</td>\n",
    "<td>Exponent</td>\n",
    "<td>Returns the left operand raised to the power of the right operand.</td>\n",
    "<td>**=</td>\n",
    "</tr>\n",
    "<tr>\n",
    "<td>//</td>\n",
    "<td>Floor Division</td>\n",
    "<td>Divides the left operand by the right operand but returns only the integer part with any fractional part truncated. For example, 3//2 gives 1 instead of 1.5.</td>\n",
    "<td>//=</td>\n",
    "</tr>\n",
    "</table>"
   ]
  },
  {
   "cell_type": "markdown",
   "metadata": {},
   "source": [
    "<table class=\"table table-bordered\">\n",
    "<tr>\n",
    "<th style=\"text-align:center; width:10%\">Operator</th>\n",
    "<th style=\"text-align:center; width:15%\">Operation</th>\n",
    "<th style=\"text-align:center; width:55%\">Description</th>\n",
    "</tr>\n",
    "<tr>\n",
    "<td style=\"text-align:center;\">==</td>\n",
    "<td style=\"text-align:center;\">Equality</td>\n",
    "<td style=\"text-align:left\">If the values of two operands are equal, then the condition becomes true.</td>\n",
    "</tr>\n",
    "<tr>\n",
    "<td style=\"text-align:center;\">!=</td>\n",
    "<td style=\"text-align:center;\">Non-equality</td>\n",
    "<td style=\"text-align:left\">If values of two operands are not equal, then condition becomes true.</td>\n",
    "</tr>\n",
    "<tr>\n",
    "<td style=\"text-align:center;\">&gt;</td>\n",
    "<td style=\"text-align:center;\">Greater than</td>\n",
    "<td style=\"text-align:left\">If the value of the left operand is greater than the value of the right operand, then the condition becomes true.</td>\n",
    "</tr>\n",
    "<tr>\n",
    "<td style=\"text-align:center;\">&lt;</td>\n",
    "<td style=\"text-align:center;\">Smaller than</td>\n",
    "<td style=\"text-align:left\">If the value of the left operand is less than the value of the right operand, then the condition becomes true.</td>\n",
    "</tr>\n",
    "<tr>\n",
    "<td style=\"text-align:center;\">&gt;=</td>\n",
    "<td style=\"text-align:center;\">Greater than or equal to</td>\n",
    "<td style=\"text-align:left\">If the value of the left operand is greater than or equal to the value of the right operand, then the condition becomes true.</td>\n",
    "</tr>\n",
    "<tr>\n",
    "<td style=\"text-align:center;\">&lt;=</td>\n",
    "<td style=\"text-align:center;\">Smaller than or equal to</td>\n",
    "<td style=\"text-align:left\">If the value of the left operand is less than or equal to the value of the right operand, then the condition becomes true.</td>\n",
    "</tr>\n",
    "</table>"
   ]
  },
  {
   "cell_type": "markdown",
   "metadata": {},
   "source": [
    "<table align=\"left\" class=\"table table-bordered\" style=\"width:90%\">\n",
    "<tr>\n",
    "<th style=\"text-align:center; width:10%\">Operator</th>\n",
    "<th style=\"text-align:center; width:55%\">Description</th>\n",
    "<th style=\"text-align:center\">Example</th>\n",
    "</tr>\n",
    "<tr>\n",
    "<td style=\"text-align:center; vertical-align:middle;\"><font face=\"courier new\">and</font></td>\n",
    "<td style=\"text-align:left\">If both operands are true, then the value of the expression is true. Otherwise it is false.</td>\n",
    "<td><font face=\"courier new\">a and b</font><br/>value: <font face=\"courier new\">False</font></td>\n",
    "</tr>\n",
    "<tr>\n",
    "<td style=\"text-align:center; vertical-align:middle;\"><font face=\"courier new\">or</font></td>\n",
    "<td style=\"text-align:left\">If at least one of the two operands is true, then the value of the expression is true. Otherwise it is false.</td>\n",
    "<td><font face=\"courier new\">a or b</font><br/>value: <font face=\"courier new\">True</font></td>\n",
    "</tr>\n",
    "<tr>\n",
    "<td style=\"text-align:center; vertical-align:middle;\"><font face=\"courier new\">not</font></td>\n",
    "<td style=\"text-align:left\">This operator takes a single operand. If the operand is true, the expression is false. Otherwise the expression is true.</td>\n",
    "<td><font face=\"courier new\">not a</font><br/>value: <font face=\"courier new\">True</font></td>\n",
    "</tr>\n",
    "</table>"
   ]
  },
  {
   "cell_type": "markdown",
   "metadata": {},
   "source": [
    "Precedence:\n",
    "\n",
    "The acronym <b>PEMDAS</b> is a useful way to remember the order of operations:\n",
    "<ol>\n",
    "<li><b>P</b>arentheses\n",
    "<li><b>E</b>xponentiation\n",
    "<li><b>M</b>ultiplication, <b>D</b>ivision\n",
    "<li><b>A</b>ddition and <b>S</b>ubtraction\n",
    "</ol>\n",
    "\n",
    "<table align=\"left\" class=\"table table-bordered\">\n",
    "<tr>\n",
    "<th style=\"text-align:center; width:25%\">Operator</th>\n",
    "<th style=\"text-align:center; width:35%\">Description</th>\n",
    "</tr>\n",
    "<tr>\n",
    "<td style=\"text-align:center; vertical-align:middle;\">&#8727;&#8727;</td>\n",
    "<td>Exponent</td>\n",
    "</tr>\n",
    "<tr>\n",
    "<td style=\"text-align:center; vertical-align:middle;\">&#8727;, /, %, //</td>\n",
    "<td>Multiplication, division, modulo and floor division</td>\n",
    "</tr>\n",
    "<tr>\n",
    "<td style=\"text-align:center; vertical-align:middle;\">+, -</td>\n",
    "<td>Addition and subtraction</td>\n",
    "</tr>\n",
    "<tr>\n",
    "<td style=\"text-align:center; vertical-align:middle;\">==, !=, &lt;, &lt;=, >, >=</td>\n",
    "<td>Relational Operators</td>\n",
    "</tr>\n",
    "<tr>\n",
    "<td style=\"text-align:center; vertical-align:middle;\">not</td>\n",
    "<td>Boolean NOT</td>\n",
    "</tr>\n",
    "<tr>\n",
    "<td style=\"text-align:center; vertical-align:middle;\">and</td>\n",
    "<td>Boolean AND</td>\n",
    "</tr>\n",
    "<tr>\n",
    "<td style=\"text-align:center; vertical-align:middle;\">or</td>\n",
    "<td>Boolean OR</td>\n",
    "</tr>\n",
    "</table>\n"
   ]
  },
  {
   "cell_type": "markdown",
   "metadata": {},
   "source": [
    "The De Morgan's Law states that:\n",
    "<ul>\n",
    "<li>not (A and B) is equivalent to (not A or not B)</li>\n",
    "<li>not (A or B) is equivalent to (not A and not B)</li>\n",
    "</ul>"
   ]
  },
  {
   "cell_type": "markdown",
   "metadata": {},
   "source": [
    "# Input/Output"
   ]
  },
  {
   "cell_type": "code",
   "execution_count": null,
   "metadata": {},
   "outputs": [],
   "source": [
    "variable = int(input(\"Type a number:\"))  #input is string by default, need to convert accordingly"
   ]
  },
  {
   "cell_type": "code",
   "execution_count": null,
   "metadata": {},
   "outputs": [],
   "source": [
    "age, name = 20, \"Dexter\"\n",
    "print('I am\\n', age, 'years old.', end = '')   #end with \\n by default, need to specify if want to change\n",
    "print(f\"Hello, {name}. You are {age*2}.\")      #can manipulate within print\n",
    "print(f\"{name.lower()} is funny.\")             #can call method directly\n",
    "print(f\"{to_lowercase(name)} is funny.\")       #can call function directly\n",
    "print(f\"The comedian is {comedian['name']}.\")  #make sure '' used for dict if \"\" used for f string\n",
    "\n",
    "print(f\"Hi {name}. \"                           #can print multiline strings\n",
    "f\"You are a {profession}. \")\n",
    "\n",
    "print('Hello, {}. You are {}.'.format(name, age*2))\n",
    "\n",
    "print(*list1, sep=\" \", end=\"\")                         #to print list of words as string, can specify end\n",
    "\n",
    "dict1 = {'name': 'Eric', 'age': 74}\n",
    "print(\"Hello, {name}. You are {age}.\".format(**dict1)) #to print from dict"
   ]
  },
  {
   "cell_type": "markdown",
   "metadata": {},
   "source": [
    "```\n",
    "{[argument position]: [align] [minimum_width] [.precision] [descriptor]}\n",
    "```\n",
    "**Note: Square bracket means this code is optional.**\n",
    "\n",
    "- align: \n",
    "    - Front: padding character\n",
    "    - End: can be left aligned (<), right aligned (>) or centered (^)\n",
    "- minimum_width: The minimum width the past-on argument will take. \n",
    "    - Front: + so that sign is indicated for positive numbers \n",
    "    - Middle: character width\n",
    "    - End: , for thousands separator\n",
    "- .precision: number of decimal places\n",
    "\n",
    "|descriptor|type|\n",
    "|-|-|\n",
    "|s|   string|\n",
    "|d|decimal integer|\n",
    "|f|floating-point decimal|\n",
    "|e|floating-point exponential|\n",
    "|%|floating-point as percent|"
   ]
  },
  {
   "cell_type": "code",
   "execution_count": 68,
   "metadata": {
    "scrolled": true
   },
   "outputs": [
    {
     "name": "stdout",
     "output_type": "stream",
     "text": [
      "value = **+983,698,327.76***\n",
      "value = **+983,698,327.76***\n"
     ]
    }
   ],
   "source": [
    "x = 983698327.765\n",
    "print(f\"value = {x:*^+20,.2f}\")             #using f string\n",
    "print(\"value = {:*^+20,.2f}\".format(x))     #using format"
   ]
  },
  {
   "cell_type": "markdown",
   "metadata": {},
   "source": [
    "# File"
   ]
  },
  {
   "cell_type": "code",
   "execution_count": null,
   "metadata": {},
   "outputs": [],
   "source": [
    "%pwd    #get current directory\n",
    "\n",
    "path = \"file.txt\"   #if file is in the same directory\n",
    "file = open(path, \"r\")   #open file as read-only\n",
    "for line in file:   #print lines in file\n",
    "    print(line)\n",
    "file.close()        #close file\n",
    "\n",
    "with open(path, \"r\") as file:          #will auto close file\n",
    "    lines = [line for line in file]  #alternatively, keep lines with list comprehension\n",
    "print(lines)    or print(''.join(lines))\n",
    "\n",
    "with open(path, \"r\") as file:    #will auto close file\n",
    "    print(file.readline())     #print first line only\n",
    "    print(file.readline())     #print second line only\n",
    "\n",
    "with open(path, \"a\") as file:    #will auto close file\n",
    "    file.writelines([\"\\nSee you soon!\", \"\\nOver and out.\"])\n",
    "\n",
    "file.write(\"add this line\")   #write to file\n",
    "file.writelines([\"\\nSee you soon!\", \"\\nOver and out.\"])\n",
    "file.read()                   #return whole content from file\n",
    "file.read(5)                  #return first 5 char from file\n",
    "file.readline()               #read one line per call\n",
    "\n",
    "\n",
    "with open('abc.txt') as fh1, open('test.txt') as fh2:   #print lines from 2 files alternately\n",
    "    for line1, line2 in zip(fh1, fh2):\n",
    "        print(line1+line2)\n"
   ]
  },
  {
   "cell_type": "markdown",
   "metadata": {},
   "source": [
    "|mode|description|\n",
    "|-|-|\n",
    "|r|read-only; default value|\n",
    "|w|write-only; erases existing file if the file exists|\n",
    "|x|write-only; fails if the file exists|\n",
    "|a|append; creates a new file if the file does not exist|\n",
    "|r+|read and write/overwrite at the beginning of file|\n",
    "|a+|read at beginning and write at the end of file|"
   ]
  },
  {
   "cell_type": "markdown",
   "metadata": {},
   "source": [
    "# Loops"
   ]
  },
  {
   "cell_type": "markdown",
   "metadata": {},
   "source": [
    "### For Loop"
   ]
  },
  {
   "cell_type": "code",
   "execution_count": null,
   "metadata": {},
   "outputs": [],
   "source": [
    "for char in string:            #to loop through each character in string, not changing char\n",
    "    print(char)\n",
    "\n",
    "for i, j in zip(str1, str2):   #to loop through each character in both strings simultaneously\n",
    "    print(i, j)                # list(zip(l1,l2)) to generate a list of tuples\n",
    "    \n",
    "for item in list1:             #to loop through each item in list, not changing item\n",
    "    print(item)\n",
    "\n",
    "for i,v in enumerate(list1, start=10):   #to loop thru counter and item, with counter starting from 10\n",
    "    print(i,v)\n",
    "\n",
    "for item in tup:               #to loop through each item in tuple, not changing item\n",
    "    print(item)\n",
    "\n",
    "tup = ((1,2), (3,4), (5,6))\n",
    "for i,j in tup:                #to loop through each 2-tuple in tuple\n",
    "    print(i,j)\n",
    "\n",
    "for i,j in dictionary.items(): #to loop through each key-value tuple in dict\n",
    "    print(i,j)\n",
    "    \n",
    "for (k1, v1), (k2, v2) in zip(d1.items(), d2.items()): #to loop through 2 dicts\n",
    "    print(k1,v1)\n",
    "    print(k2,v2)\n",
    "    \n",
    "for num in range(10):          #range(end(not including))  so num will start from 0, ie 0 to 9\n",
    "    print(num*2)\n",
    "    \n",
    "for num in range(2, 10, 2):    #range(start,end(not including),step)  so num=2,4,6,8 \n",
    "    print(num)    \n",
    "\n",
    "for num in range(10, 2, -2):   #range(start,end(not including),step)  so num=10,8,6,4 \n",
    "    print(num)    \n",
    "    \n",
    "for i in range(10):\n",
    "    print(i)\n",
    "else:                           #else is excuted after for loop has completed\n",
    "    print(\"completed!\")"
   ]
  },
  {
   "cell_type": "markdown",
   "metadata": {},
   "source": [
    "### While Loop"
   ]
  },
  {
   "cell_type": "code",
   "execution_count": null,
   "metadata": {},
   "outputs": [],
   "source": [
    "while i>0:                 #when number of loops is unknown\n",
    "    if i == 3:\n",
    "        break              #get out of while loop\n",
    "    else:\n",
    "        continue           #end current loop, continue to next loop    "
   ]
  },
  {
   "cell_type": "markdown",
   "metadata": {},
   "source": [
    "### Alternative to Switch"
   ]
  },
  {
   "cell_type": "code",
   "execution_count": 66,
   "metadata": {},
   "outputs": [],
   "source": [
    "l = [\"Mon\",\"Tue\",\"Wed\",\"Thu\",\"Fri\",\"Sat\",\"Sun\"]                  #list method\n",
    "print(l[x])\n",
    "\n",
    "d = {1:'Mon',2:'Tue',3:'Wed',4:'Thur',5:'Fri',6:'Sat',7:'Sun'}   #dict method\n",
    "print(d.get(x, 9))                       # 9 is default if x not found\n",
    "\n",
    "def f(x):                                                        #function method\n",
    "    return {'a': 1, 'b': 2}.get(x, 9)    # 9 is default if x not found"
   ]
  },
  {
   "cell_type": "markdown",
   "metadata": {},
   "source": [
    "# Containers"
   ]
  },
  {
   "attachments": {
    "image.png": {
     "image/png": "[encoded data removed]"
    }
   },
   "cell_type": "markdown",
   "metadata": {},
   "source": [
    "- strings\n",
    "- lists\n",
    "- tuples\n",
    "- dictionaries\n",
    "- sets\n",
    "![image.png](attachment:image.png)"
   ]
  },
  {
   "cell_type": "markdown",
   "metadata": {},
   "source": [
    "# Strings"
   ]
  },
  {
   "attachments": {
    "image.png": {
     "image/png": "[encoded data removed]"
    }
   },
   "cell_type": "markdown",
   "metadata": {},
   "source": [
    "![image.png](attachment:image.png)"
   ]
  },
  {
   "cell_type": "code",
   "execution_count": null,
   "metadata": {},
   "outputs": [],
   "source": [
    "#string checks\n",
    "str1.isalnum()            #check if all characters are alphanumeric (whitespace is not!)\n",
    "str1.isalpha()            #check if all characters are alphabets\n",
    "str1.isnumeric()          #check if all characters are numeric (Decimals, Subscripts, Superscripts, Vulgar Fractions, Roman Numerals, Currency Numerators)\n",
    "str1.isdigit()            #check if all characters are digits (Decimals, Subscripts, Superscripts)\n",
    "str1.isdecimal()          #check if all characters are decimal (only Decimals)\n",
    "str1.islower()            #check if all letters are lowercase\n",
    "str1.isupper()            #check if all letters are uppercase\n",
    "str1.istitle()            #check if each word start with an upper case letter:\n",
    "str1.isspace()            #check if all the characters are whitespaces\n",
    "if str1:        #True if string is non-zero length\n",
    "if not str1:    #False if string is zero length  \n",
    "\n",
    "#searching within string\n",
    "str1 = \"This is a string\"\n",
    "str1.count(\"is\", 0, 7)    #count number of occurences of substring, start and end(not inclusive) are optional\n",
    "str1.count(\"is\", -10, -1) #count number of occurences of substring from rear, start and end(not inclusive) are optional\n",
    "str1.find(\"is\")           #return beginning index of 1st instance of substring, ie 2\n",
    "str1.rfind(\"is\")          #return beginning index of last instance of substring, ie 5\n",
    "str1.startswith(\"@\")     #find words that start with @\n",
    "'ab' in 'abcd'             #check membership\n",
    "\n",
    "#slicing string\n",
    "str1[2:8]           #slice from 2 to 7 (up to but not including 8)\n",
    "str1[:4]            #slice from 0 to 3 (up to but not including 4)\n",
    "str1[4:]            #slice from 4 to end\n",
    "str1[:]             #slice from start to end\n",
    "str1[::2]           #slice from start to end with step of 2\n",
    "str1[::-1]          #reverse sequence\n",
    "\n",
    "#splitting string    \n",
    "str1.split()              #split into list of strings, default delimiter is space: ['This', 'is', 'a', 'string.']\n",
    "str1.split(\"s\")           #set delimiter as \"s\": ['Thi', ' i', ' a ', 'tring.']\n",
    "str1.split(\"s\", 2)        #set delimiter as \"s\" and 2 splits from left: ['Thi', ' i', ' a string.']\n",
    "str1.rsplit(\"s\", 2)       #set delimiter as \"s\" and 2 splits from right: ['This i', ' a ', 'tring.']\n",
    "str1.split(\"\\n\")          #Return list of lines in string, with empty str after \\n. \"Cat\\nBat\\n\": ['Cat','Bat','']\n",
    "str1.splitlines()         #Return list of lines in the string, breaking at line boundaries. \"Cat\\nBat\\n\": ['Cat','Bat']\n",
    "str1.splitlines(keepends=True)  #Return list of lines in string, breaking but keeping line boundaries. \"Cat\\nBat\\n\": ['Cat\\n','Bat\\n']\n",
    "str1.partition(\"is\")      #split into tuple with 3 elements: everything before 1st \"is\", \"is\", everything after 1st \"is\"\n",
    "str1.rpartition(\"is\")     #split into tuple with 3 elements: everything before last \"is\", \"is\", everything after last \"is\"\n",
    "\n",
    "#create string from list\n",
    "' '.join(str2)            #join list of strings, '' used to indicate what would be between strings\n",
    "\n",
    "#manipulating strings\n",
    "'ab' + 'cd'     #to add strings, must all be strings\n",
    "'abcd' * 3      #to replicate strings, must be multiplied by int\n",
    "str1.replace(\"string\", \"song\")\n",
    "str1.upper()              #change all characters to uppercase\n",
    "str1.lower()              #change all characters to lowercase\n",
    "str1.capitalize()         #capitalize first character of every sentence\n",
    "str1.title()              #capitalize first character of every word\n",
    "str1.swapcase()           #swap uppercase and lowercase\n",
    "str1.center(50, \"O\")      #centralise string padded with O to take up 50 characters\n",
    "str1.ljust(50, \"O\")       #left justify string padded with O to take up 50 characters\n",
    "str1.rjust(50, \"O\")       #right justify string padded with O to take up 50 characters\n",
    "print(str1.expandtabs(2))  #set tab size to 2 whitespaces (default is 8, must have >1 /t) \"H\\te\\tl\\tl\\to\": H  e  l  l  o \n",
    "\n",
    "str1 = \"ae\"\n",
    "table = str.maketrans(\"aeg\", \"cgz\")  #generate table of translation {a:c, e:g, g:z}\n",
    "result = str1.translate(table)       #use table to translate to \"cg\"\n",
    "\n",
    "#stripping characters\n",
    "str1.strip()       #to remove all leading and trailing whitespaces \n",
    "str1.lstrip()      #to remove all leading whitespaces\n",
    "str1.rstrip()      #to remove all trailing whitespaces\n",
    "str1.strip('\\n')   #to remove all leading and trailing newlines\n",
    "str1.strip('efg')  #remove all leading and trailing characters until reaching string char not e,f,g"
   ]
  },
  {
   "cell_type": "code",
   "execution_count": null,
   "metadata": {},
   "outputs": [],
   "source": [
    "#convert string to list to modify before converting back to string\n",
    "\n",
    "#to eliminate vowels from string\n",
    "string = \"ijegwoijeowig\"\n",
    "list1 = [c for c in string if c not in 'aeiou'] \n",
    "string = \"\".join(list1)\n",
    "\n",
    "#to keep vowels from list of strings\n",
    "l = [\"ggweweg\",\"gewew\"]\n",
    "vowels = \"aeiou\"                                \n",
    "l = [\"\".join([c for c in list(word) if c in vowels]) for word in l]\n",
    "\n",
    "a_list == a_list[::-1]                          #convert string to list and check if palindrome"
   ]
  },
  {
   "cell_type": "code",
   "execution_count": 18,
   "metadata": {},
   "outputs": [
    {
     "data": {
      "text/plain": [
       "\"You asked me a question, but I didn't have the answer;I asked you a question, but you didn't have the answer either.\""
      ]
     },
     "execution_count": 18,
     "metadata": {},
     "output_type": "execute_result"
    }
   ],
   "source": [
    "\"You asked me a question, but I didn't have the answer;\\\n",
    "I asked you a question, but you didn't have the answer either.\"\n",
    "# \\ character to bypass \\n character to allow multiline string"
   ]
  },
  {
   "cell_type": "code",
   "execution_count": null,
   "metadata": {},
   "outputs": [],
   "source": [
    "raw = r'this\\t\\n and that'    #r to indicate raw (WYSIWYG)"
   ]
  },
  {
   "cell_type": "markdown",
   "metadata": {},
   "source": [
    "# Lists"
   ]
  },
  {
   "cell_type": "markdown",
   "metadata": {},
   "source": [
    "## List Creation"
   ]
  },
  {
   "cell_type": "code",
   "execution_count": null,
   "metadata": {},
   "outputs": [],
   "source": [
    "lists = [0]*1000                       #to create list of 1000 ints, initialised to 0\n",
    "lists = [[] for i in range(3)]         #to create [[],[],[]]\n",
    "lists = [i for i in list1]             #list comprehension, no condition as filter\n",
    "lists = [i for i in teststr if re.search(r'\\d+', i)] #list comprehension using regex to filter\n",
    "lists = [i for i in list1 if i%2==0]   #list comprehension [function for value in container if condition]\n",
    "lists = [\"even\" if i%2==0 else \"odd\" for i in list1]                 #list comprehension, shifting if condition in front\n",
    "lists = [\"True\" if i%2==0 if positive else \"False\" for i in list1]   #nested if in list comprehension\n",
    "lists = [\"Heavy\" if i>50 else \"Mid\" if 20<i<=50 else \"Light\" for i in list1]  #elif in list comprehension\n",
    "\n",
    "lists = [[i*j for j in list2] for i in list1]  #if nested, 2nd for loop first then 1st for loop  \n",
    "lists = [i*j for i in list1 for j in list2] #if not nested, 1st for loop first, then 2nd for loop\n",
    "\n",
    "#convert string to list\n",
    "lists = list(string)                        #to create list of characters from string \n",
    "lists = string.split()                      #to create list of words from string\n",
    "\n",
    "#convert list to string\n",
    "string = \" \".join(lists)                    #to convert list back to string\n",
    "string = \" \".join(str(x) for x in list1))   #to convert list back to string if not all items are str\n",
    "\n",
    "print(*list1, sep=\" \")                      #to print list as string\n",
    "\n",
    "lists = list(tup)                           #to convert tuple to list to make changes\n",
    "tup = tuple(lists)                          #to convert list back to tuple after changes"
   ]
  },
  {
   "cell_type": "code",
   "execution_count": null,
   "metadata": {},
   "outputs": [],
   "source": [
    "#copy list\n",
    "newlist = oldlist.copy()   #to copy list, same as newlist = oldlist[:]\n",
    "\n",
    "#stats on list\n",
    "minimum = min(list1)                       #min value in list\n",
    "min(range(len(lst)), key=lst.__getitem__)  #get index of min item in list\n",
    "\n",
    "maximum = max(list1)                       #max value in list\n",
    "max(range(len(lst)), key=lst.__getitem__)  #get index of max item in list\n",
    "\n",
    "summation = sum(list1)                     #sum of list\n",
    "\n",
    "mean = sum(list1)/len(list1)               #mean of list\n",
    "\n",
    "list1.sort()                               #median of list\n",
    "mid = len(list1)//2\n",
    "median = (list1[mid] + list1[~mid])/2\n",
    "\n",
    "mode = max(list1, key = list1.count)       #mode of list (return first mode)\n",
    "\n",
    "\n",
    "#adding to list\n",
    "list1.append(25)           #add single item to the end\n",
    "list1.append([25,26])      #add nested single list [25,26] or \"tail\" to the end\n",
    "list1.extend([25,26])      #add 25,26 or \"t\",\"a\",\"i\",\"l\" to the end\n",
    "list1 += [25,26]           #add 25,26 or \"t\",\"a\",\"i\",\"l\" to the end\n",
    "\n",
    "list1.insert(5, 24)        #add single item (24) at index 5\n",
    "list1.insert(5, [24,25])   #add nested single list [24, 25] at index 5\n",
    "list1[5:5] = [24,25]       #add items 24, 25 at index 5\n",
    "list1[5:] = [24,25]        #replace items beyond index 5 with 24, 25 \n",
    "\n",
    "#removing from list\n",
    "list1.pop(6)               #remove single item by index from list and get its value\n",
    "list1.remove(99)           #remove single item by value from list\n",
    "del list1[1:4]             #remove item(s) from list by index/slicing\n",
    "list1.clear()              #remove all items in list\n",
    "\n",
    "#reverse list    \n",
    "list1.reverse()            #reverse order of list in place\n",
    "list1[::-1]                #reverse order of list    \n",
    "\n",
    "#sort list\n",
    "list1.sort()                                  #sort list in place\n",
    "list2 = sorted(list1, key=len, reverse=True)  #to sort by descending length of each item\n",
    "\n",
    "#sort nested list\n",
    "t = [('English', 88), ('Science', 90), ('Maths', 97), ('Social sciences', 82)]\n",
    "t = sorted(t, key = lambda x: len(x[0]))     #to sort by length of first element in each tuple\n",
    "\n",
    "l = sorted(l, key=lambda x: x[1])     #to sort nested list [[1,4], [3,2]] by 2nd item \n",
    "\n",
    "from operator import itemgetter #to sort nested list [[1,4], [3,2]] by 2nd item in each list to become [[3,2], [1,4]]\n",
    "x.sort(key=itemgetter(1))       #1 refers to 2nd element\n",
    "\n",
    "l1 = [[1,4],[3,2]]              #to sort nested list [[1,4], [3,2]] by 2nd item in each list to become [[3,2], [1,4]]\n",
    "first, second = list(zip(*l1))\n",
    "l1 = sorted((zip(second,first)))\n",
    "l1 = [[j,i] for i,j in l1]\n",
    "\n",
    "#flatten nested list\n",
    "result = [item for sublist in result for item in sublist] #to flatten nested list\n",
    "\n",
    "l1 = [[1,4],[3,2]]\n",
    "temp = []\n",
    "for i in l1:\n",
    "    temp += i                    #alternative to flatten nested list\n",
    "\n",
    "#to check circular identical by multiplying list 2 by two\n",
    "if \"\".join(list1) in \"\".join(list2*2)   \n",
    "\n",
    "#to check length of list\n",
    "if list1:          #True if list is not empty\n",
    "if not list1:      #False if list is empty"
   ]
  },
  {
   "cell_type": "markdown",
   "metadata": {},
   "source": [
    "## Array Operations"
   ]
  },
  {
   "cell_type": "code",
   "execution_count": null,
   "metadata": {},
   "outputs": [],
   "source": [
    "chars = [['a', 'b'], ['c', 'd'], ['e', 'f']]\n",
    "transposed = list(zip(*chars))                 #transpose array/rotate 90deg CW [(‘a’, ‘c’, ‘e’), (‘b’, ‘d’, ‘f’)]\n",
    "\n",
    "transposed = [[chars[j][i] for j in range(len(chars))] for i in range(len(chars[0]))]  #transpose array/rotate 90deg CW\n",
    "\n",
    "new_matrix = [[m[j][i] for j in range(len(m))] for i in range(len(m[0])-1,-1,-1)]      #rotate 90deg CCW"
   ]
  },
  {
   "cell_type": "markdown",
   "metadata": {},
   "source": [
    "## List/Tuple operations"
   ]
  },
  {
   "cell_type": "code",
   "execution_count": null,
   "metadata": {},
   "outputs": [],
   "source": [
    "#below all applicable for tuple and range too\n",
    "\n",
    "x in lists            #check if x is in lists\n",
    "x not in lists        #check if x is not in lists\n",
    "list1 + list2         #concatenate 2 lists\n",
    "list1 * 3             #adding list1 to itself 3-1 times\n",
    "list1[4:8:2]          #slice list from 4 to 8-1 in steps of 2\n",
    "list1[8:4:-1]         #slice list from 8 to 4+1 (reversed)\n",
    "len(list1)            #length of list\n",
    "list1.index(x)        #index of 1st occurrence of x in list\n",
    "list1.count(x)        #number of occurrences of x in list\n",
    "min(list1)            #min in list\n",
    "max(list1)            #max in list\n",
    "sum(list1)            #sum of list\n",
    "list(sorted(list1))   #sort copied list\n",
    "list(reversed(list1)) #reverse order of copied list"
   ]
  },
  {
   "cell_type": "markdown",
   "metadata": {},
   "source": [
    "## Unpacking list/tuple"
   ]
  },
  {
   "cell_type": "code",
   "execution_count": 1,
   "metadata": {},
   "outputs": [],
   "source": [
    "t = [0, 1, 2]\n",
    "a, b, c = t            #a=0, b=1, c=2\n",
    "\n",
    "t = [0, 1, [2, 3, 4]]\n",
    "a, b, c = t            #a=0, b=1, c=[2,3,4]\n",
    "a, b, (c,d,e) = t      #a=0, b=1, c=2, d=3, e=4\n",
    "\n",
    "t = [0, 1, 2, 3, 4]\n",
    "a, b, *c = t           #a=0, b=1, c=[2,3,4]    if not just a,b=t[0],t[1]\n",
    "a, *b, c = t           #a=0, b=[1,2,3], c=4\n",
    "\n",
    "#above applies for unpacking tuple as well"
   ]
  },
  {
   "cell_type": "markdown",
   "metadata": {},
   "source": [
    "# Tuple"
   ]
  },
  {
   "cell_type": "code",
   "execution_count": null,
   "metadata": {},
   "outputs": [],
   "source": [
    "t = 1,          #brackets optional, must have comma\n",
    "t = (1,)"
   ]
  },
  {
   "cell_type": "markdown",
   "metadata": {},
   "source": [
    "# Dictionary"
   ]
  },
  {
   "cell_type": "code",
   "execution_count": null,
   "metadata": {},
   "outputs": [],
   "source": [
    "d = {\"key1\":\"value1\", \"key2\":\"value2\", \"key3\":\"value3\"}\n",
    "d = {k:v for k,v in zip(list1,list2)}          #build dict from 2 lists\n",
    "d = dict((d1.items() | d2.items()))            #build dict from 2 dicts\n",
    "d = {wd:len(wd) for wd in text.split()}        #build dict with words&length from string\n",
    "d = {c:string.count(c) for c in list(string)}  #build dict with chars&count from string \n",
    "for c in s:                                    #build dict with chars&count from string\n",
    "    d[c] = d.get(c, 0) + 1                       \n",
    "    \n",
    "d = {value:key for key,value in d.items()}                         #to switch key and value\n",
    "d = {k: v for k, v in sorted(d.items())}                           #to sort by ascending key    \n",
    "d = {k: v for k, v in sorted(d.items(), reverse=True)}             #to sort by descending key    \n",
    "d = {k: v for k, v in sorted(d.items(), key=lambda item: item[1])} #to sort by ascending value\n",
    "d = {k: v for k, v in sorted(d.items(), key=lambda item: item[1], reverse = True)} #to sort by descending value\n",
    "print(sorted(d, key=d.get))                 #sort by value and return keys\n",
    "\n",
    "key_max = max(my_dict.keys(), key=(lambda k: my_dict[k]))  #obtain key of max value\n",
    "key_min = min(my_dict.keys(), key=(lambda k: my_dict[k]))  #obtain key of min value\n",
    "\n",
    "print({**d1, **d2})                         #print 2 dicts preserving respective order"
   ]
  },
  {
   "cell_type": "code",
   "execution_count": null,
   "metadata": {},
   "outputs": [],
   "source": [
    "#copy dict\n",
    "d.copy()                            #return copy of dictionary \n",
    "\n",
    "#get value from dict\n",
    "d.get(\"key1\", \"Not found\")          #return value of given key, else None or \"Not found\" if specified\n",
    "d[\"key1\"]                           #return value of given key, else KeyError\n",
    "d.setdefault(\"key5\", \"value99\")     #return value of given key, else value99\n",
    "\n",
    "#get all values and/or keys\n",
    "d.values()                          #return all values from dict\n",
    "d.keys()                            #return all keys in dict\n",
    "d.items()                           #return all (key,value) in dict\n",
    "\n",
    "#add to dict\n",
    "d.update(dict1)                     #update value if key in dict, else add key-value to dict\n",
    "d.fromkeys({\"a\", \"b\"}, \"value\")     #create new dict from given sequence of keys and values(optional)   \n",
    "\n",
    "#remove from dict\n",
    "d.pop()                             #remove and return value of given value in dict\n",
    "d.popitem()                         #remove and return last (key,value) in dict (LIFO)\n",
    "d.clear()                           #remove all elements in dictionary"
   ]
  },
  {
   "cell_type": "markdown",
   "metadata": {},
   "source": [
    "# Set"
   ]
  },
  {
   "cell_type": "code",
   "execution_count": null,
   "metadata": {},
   "outputs": [],
   "source": [
    "s = set([2,1,3,2])          #s = {1,2,3}   *to sort and remove duplicates\n",
    "s = {2,1,3,2}               #s = {1,2,3}\n",
    "s = set(\"db ca\")            #s = {\" \",\"a\",\"b\",\"c\",\"d\"}\n",
    "s = {\"db ca\"}               #s = {\"db ca\"}\n",
    "s = set()                   #s = {}    *will be type set, using s={} will create dict instead\n",
    "\n",
    "set(list1)                  #perform set operations on list\n",
    "set(d.items())              #perform set operations on dict\n",
    "set(string)                 #perform set operations on string\n",
    "set(tuple1)                 #perform set operations on tuple"
   ]
  },
  {
   "attachments": {
    "image.png": {
     "image/png": "[encoded data removed]"
    }
   },
   "cell_type": "markdown",
   "metadata": {},
   "source": [
    "![image.png](attachment:image.png)"
   ]
  },
  {
   "cell_type": "code",
   "execution_count": null,
   "metadata": {},
   "outputs": [],
   "source": [
    "#copy set\n",
    "sa.copy()         #make a copy of set\n",
    "\n",
    "#add to set\n",
    "sa.add(1)         #add element to set\n",
    "sa.update(sb)     #add elements from sb to sa\n",
    "sa.update(dict1)  #add keys of dict to set\n",
    "\n",
    "#remove from set\n",
    "sa.discard(1)     #remove element from set\n",
    "sa.clear()        #remove all elements in set\n",
    "sa.pop()          #remove a random element\n",
    "\n",
    "#set operations\n",
    "sa | sb                          #union\n",
    "sa & sb                          #intersect\n",
    "sa.intersection_update(sb, sc)   #sa will be updated with intersection of sa,sb,sc. no change to sb,sc\n",
    "sa - sb                          #return difference (not b)\n",
    "sa.difference_update(sb)         #remove sb elements from sa. no change to sb\n",
    "sa ^ sb                          #symmetric difference (intersection removed)\n",
    "sa.symmetric_difference_update(sb)   #sa updated with symmetric difference of sa,sb. no change to sb,sc\n",
    "\n",
    "#checks on set\n",
    "sa.isdisjoint(sb) #check if sets are disjointed (no common elements)\n",
    "sa.issubset(sb)   #check if all elements of a are in b\n",
    "sa.issuperset(sb) #check if all elements of b are in a\n",
    "1 in sa           #check membership"
   ]
  },
  {
   "cell_type": "markdown",
   "metadata": {},
   "source": [
    "# Lambda & Map"
   ]
  },
  {
   "cell_type": "code",
   "execution_count": null,
   "metadata": {},
   "outputs": [],
   "source": [
    "l = list(filter(lambda x: x>0, list1))            #using lambda to sort\n",
    "l = list(map(lambda x: x+1, list1))               #using lambda to change each value in list\n",
    "l = list(map(lambda x, y: x+y, list1, list2))     #using lambda to change each value using 2 lists\n",
    "\n",
    "check = lambda x: True if x>0 else False          #using lambda to check\n",
    "print(check(10))\n",
    "\n",
    "add = lambda x: x+10                              #using lambda to perform changes\n",
    "print(add(5))\n",
    "\n",
    "list(map(fn, iterable))                           #fn in map cannot be fn()\n",
    "list(map(lambda x: x.fn(\",\"), iterable))          #if need to call fn()\n",
    "list(map(pow, base, exponent))                    #if multiple inputs to fn\n",
    "list(generator(iterable))\n",
    "[fn(x) for x in iterable]"
   ]
  },
  {
   "cell_type": "markdown",
   "metadata": {},
   "source": [
    "# zip"
   ]
  },
  {
   "cell_type": "code",
   "execution_count": null,
   "metadata": {},
   "outputs": [],
   "source": [
    "#to sort 2 lists\n",
    "letters = ['b', 'a', 'd', 'c']\n",
    "numbers = [2, 4, 3, 1]\n",
    "data1 = sorted(zip(letters, numbers))  #sort by 2 lists by letters\n",
    "data2 = sorted(zip(numbers,letters)    #sort by 2 lists by numbers\n",
    "\n",
    "pairs = [(1, 'a'), (2, 'b'), (3, 'c'), (4, 'd')]\n",
    "numbers, letters = zip(*pairs)         #unpack numbers=(1,2,3,4)   letters=('a','b','c','d')"
   ]
  },
  {
   "cell_type": "code",
   "execution_count": 6,
   "metadata": {
    "scrolled": true
   },
   "outputs": [
    {
     "name": "stdout",
     "output_type": "stream",
     "text": [
      "[('a', 'c', 'e'), ('b', 'd', 'f'), (None, None, 'g'), (None, None, 'h')]\n"
     ]
    }
   ],
   "source": [
    "#to transpose list\n",
    "\n",
    "from itertools import zip_longest\n",
    "chars = [['a', 'b'], ['c', 'd'], ['e', 'f', 'g', 'h']]\n",
    "transposed = zip_longest(*chars)\n",
    "print(list(transposed))"
   ]
  },
  {
   "cell_type": "markdown",
   "metadata": {},
   "source": [
    "# Generator Expression"
   ]
  },
  {
   "cell_type": "code",
   "execution_count": null,
   "metadata": {},
   "outputs": [],
   "source": [
    "even = (i for i in range(20) if i%2==0)     #generator expression where nothing is done first\n",
    "for i in range(10):\n",
    "    print(next(even)))                      #need to use next() to call generator expression\n",
    "even = (i for i in range(20) if i%2==0)     #need to create generator expression again to reset the starting value"
   ]
  },
  {
   "cell_type": "markdown",
   "metadata": {},
   "source": [
    "# Functions"
   ]
  },
  {
   "cell_type": "code",
   "execution_count": 239,
   "metadata": {},
   "outputs": [],
   "source": [
    "def function(a, b, c=5):                   #a,b are positional arguments, c is keyword argument\n",
    "    #do something\n",
    "    return a, b, c                         #returning a tuple of values\n",
    "\n",
    "fa, fb, fc = function(a, b, c)             #to unpack tuple\n",
    "\n",
    "\n",
    "def generatorfunction():\n",
    "    num = 0\n",
    "    while true:\n",
    "        yield num                          #temporarily return num\n",
    "        num += 2\n",
    "for i in range(20):\n",
    "    print(next(generatorfunction))         #use next() to call generatorfunction for required number of times"
   ]
  },
  {
   "cell_type": "markdown",
   "metadata": {},
   "source": [
    "# Modules"
   ]
  },
  {
   "cell_type": "markdown",
   "metadata": {},
   "source": [
    "## Random"
   ]
  },
  {
   "cell_type": "code",
   "execution_count": null,
   "metadata": {},
   "outputs": [],
   "source": [
    "import random\n",
    "\n",
    "random.seed(10)                      #to initialise random generator to be repeatable\n",
    "print(random.randrange(3, 9, 2))     #return random element from range (start, stop[not inclusive], step)\n",
    "print(random.randint(3, 9))          #return random int from range (both inclusive)\n",
    "print(random.random())               #Return random float number between 0.0 and 1.0\n",
    "print(random.uniform(20, 60))        #Return random float number between 20 and 60 both inclusive\n",
    "print(random.triangular(20, 60, 30)) #Return random float number between 20 and 60 both inclusive, using 30 to be bias to 20\n",
    "\n",
    "mylist = [\"apple\", \"banana\", \"cherry\"]\n",
    "print(random.choice(mylist))       #return random element from string, range, list, tuple or any other kind of sequence\n",
    "print(random.choices(mylist, weights = [10, 1, 1], k = 14)) #return 14 random elements from seq, with apple 10 times more likely\n",
    "print(random.sample(mylist, k=2))  #return any 2 items from string, range, list, tuple\n",
    "random.shuffle(mylist)             #randomly shuffle list, string, or tuple"
   ]
  },
  {
   "cell_type": "markdown",
   "metadata": {},
   "source": [
    "## Itertools"
   ]
  },
  {
   "cell_type": "code",
   "execution_count": null,
   "metadata": {},
   "outputs": [],
   "source": [
    "from itertools import permutations \n",
    "list(permutations(restaurant))"
   ]
  },
  {
   "cell_type": "markdown",
   "metadata": {},
   "source": [
    "## datetime"
   ]
  },
  {
   "cell_type": "code",
   "execution_count": null,
   "metadata": {},
   "outputs": [],
   "source": [
    "import datetime\n",
    "\n",
    "## date object\n",
    "d = datetime.date.today()            #today's date\n",
    "d = datetime.date(2020, 9, 20)       #2020-09-20\n",
    "d.year()             #return year\n",
    "d.month()            #return month (1-12)\n",
    "d.day()              #return day (1 to no. of days in given month)\n",
    "d.weekday()          #return day of week, 0=Mon, 6=Sun\n",
    "d.isoweekday()       #return day of week, 1=Mon, 7=Sun\n",
    "d.isocalendar()      #return 3-tuple, (ISO year, ISO week number(start Mon), ISO weekday)\n",
    "d1 = datetime.date(2020, 9, 20)\n",
    "d2 = datetime.date(2020, 3, 15)\n",
    "d = d1-d2                                                   #to calculate difference in time\n",
    "d = abs(d1-d2)                                              #to calculate absolute difference\n",
    "d.total_seconds()                                           #time difference in seconds\n",
    "\n",
    "## time object\n",
    "time = datetime.time(18, 34, 55, 546)                   #18:34:55.546\n",
    "time.hour(), time.minute(), time.second(), time.microsecond()   #to extract respective info from time\n",
    "\n",
    "## datetime object\n",
    "dt = datetime.datetime(2020, 9, 20, 18, 30, 45)\n",
    "dt.year(), dt.month(), dt.day(), dt.hour(), dt.minute(), dt.second()    #to extract respective info from datetime\n",
    "dt.date(), dt.time()                                            #to extract respective info from datetime\n",
    "datetime.datetime.now()                                     #display current time\n",
    "dt.strftime(\"%d/%m/%Y %H:%M:%S\")                            #format datetime as string\n",
    "datetime.datetime.strptime(\"2020-09-20\", %Y-%m-%d)          #convert string to datetime\n",
    "datetime.datetime.strptime(\"2020 June, 20\", %Y %B, %d)      #convert string to datetime (%B month full name)\n",
    "%a   #abbreviated weekday name (Sun)\n",
    "%A   #full weekday name (Sunday)\n",
    "%w   #weekday (0-6)\n",
    "%d   #day of month w/ zero padding (01-31)\n",
    "%-d  #day of month (1-31)\n",
    "%b   #abbreviated month name (Jan-Dec)\n",
    "%B   #full month name (January-December)\n",
    "%m   #month w/ zero padding (01-12)\n",
    "%-m  #month (1-12)\n",
    "%y   #year w/ zero padding (00-99)\n",
    "%-y  #year w/ zero padding (0-99)\n",
    "%Y   #year w/ century (eg 1999)\n",
    "%H   #hour (24h) w/ zero padding (00-23)\n",
    "%-H  #hour (24h) (0-23)\n",
    "%I   #hour (12h) w/ zero padding (01-12)\n",
    "%-I  #hour (12h) (1-12)\n",
    "%p   #AM or PM\n",
    "%M   #minute w/ zero padding (00-59)\n",
    "%-M  #minute (0-59)\n",
    "%S   #second w/ zero padding (00-59)\n",
    "%-S  #second (0-59)\n",
    "%f   #microsecond\n",
    "%Z   #timezone name\n",
    "%j   #day of the year w/ zero padding (001-366)\n",
    "%-j  #day of the year (1-366)\n",
    "%U   #week number of the year, sun as 1st day and days before are in wk0 (00-53)\n",
    "%W   #week number of the year, mon as 1st day and days before are in wk0 (00-53) \n",
    "\n",
    "today = datetime.date.today()\n",
    "yesterday = today - datetime.timedelta(days = 1)     #can specify: days,seconds,microseconds,milliseconds,minutes,hours,weeks"
   ]
  },
  {
   "cell_type": "code",
   "execution_count": null,
   "metadata": {},
   "outputs": [],
   "source": [
    "from datetime import datetime\n",
    "dt = datetime(2020, 9, 20, 18, 30, 45)                      #instead of datetime.datetime"
   ]
  },
  {
   "cell_type": "markdown",
   "metadata": {},
   "source": [
    "# Error Handling"
   ]
  },
  {
   "cell_type": "code",
   "execution_count": null,
   "metadata": {},
   "outputs": [],
   "source": [
    "def function(a):\n",
    "    try:                  #put statements that may raise errors/exceptions\n",
    "        return int(a)\n",
    "    except:               #put handling statements \n",
    "        return a        \n",
    "    \n",
    "def function(a):\n",
    "    try:                  #put statements that may raise errors/exceptions\n",
    "        return int(a)\n",
    "    except (ValueError, TypeError):     #define error types\n",
    "        return a                        #put handling statements under except "
   ]
  },
  {
   "cell_type": "markdown",
   "metadata": {},
   "source": [
    "# Permutation and Combination"
   ]
  },
  {
   "cell_type": "code",
   "execution_count": 21,
   "metadata": {},
   "outputs": [
    {
     "name": "stdout",
     "output_type": "stream",
     "text": [
      "[['X'], ['X', 'Y'], ['X', 'Y', 'Z'], ['Y'], ['Y', 'X'], ['Y', 'Z'], ['Z'], ['Z', 'Y'], ['Z', 'Y', 'X']]\n"
     ]
    }
   ],
   "source": [
    "l = ['X', 'Y', 'Z']                #to generate permutation\n",
    "temp = []\n",
    "for i in range(len(l)):\n",
    "    for j in range(1,len(l)+1):\n",
    "        if len(l[i:j]) > 0:\n",
    "            temp.append(l[i:j])\n",
    "l.reverse()\n",
    "for i in range(len(l)):\n",
    "    for j in range(1,len(l)+1):\n",
    "        if len(l[i:j]) > 0:\n",
    "            temp.append(l[i:j])            \n",
    "temp.sort()\n",
    "duplicate = []\n",
    "for i in range(len(temp)-1):\n",
    "    if temp[i] == temp[i+1]:\n",
    "        duplicate.append(i+1)\n",
    "for i in reversed(duplicate):\n",
    "    del temp[i]\n",
    "print(temp)\n",
    "\n",
    "\n",
    "print(fact(n)/fact(n-r))        #using factorial to calculate permutations"
   ]
  },
  {
   "cell_type": "code",
   "execution_count": 8,
   "metadata": {
    "scrolled": true
   },
   "outputs": [
    {
     "name": "stdout",
     "output_type": "stream",
     "text": [
      "[['X'], ['X', 'Y'], ['X', 'Y', 'Z'], ['Y'], ['Y', 'Z'], ['Z']]\n"
     ]
    }
   ],
   "source": [
    "l = ['X', 'Y', 'Z']                #to generate combinations\n",
    "temp = []\n",
    "for i in range(len(l)):\n",
    "    for j in range(1,len(l)+1):\n",
    "        if len(l[i:j]) > 0:\n",
    "            temp.append(l[i:j])\n",
    "print(temp)\n",
    "\n",
    "\n",
    "print(fact(n)/(fact(n-r)*fact(r))  #to calculate combinations"
   ]
  },
  {
   "cell_type": "markdown",
   "metadata": {},
   "source": [
    "# Extras"
   ]
  },
  {
   "cell_type": "code",
   "execution_count": null,
   "metadata": {},
   "outputs": [],
   "source": [
    "def pascal_triangle(n):                            #Pascal triangle\n",
    "   trow = [1]\n",
    "   y = [0]\n",
    "   for x in range(max(n,0)):\n",
    "      print(trow)\n",
    "      trow=[l+r for l,r in zip(trow+y, y+trow)]\n",
    "   return n>=1\n",
    "pascal_triangle(6) "
   ]
  },
  {
   "cell_type": "code",
   "execution_count": null,
   "metadata": {},
   "outputs": [],
   "source": [
    "def recur_fibo(n):                                  #Fibonacci using recursion\n",
    "   if n <= 1: \n",
    "       return n\n",
    "   else:\n",
    "       return(recur_fibo(n-1) + recur_fibo(n-2))\n",
    "    \n",
    "\n",
    "def fibo(n):                                        #Fibonacci using dynamic programming\n",
    "    array = [0]*(n+1)\n",
    "    array[1] = 1\n",
    "    for i in range(2,n+1):\n",
    "        array[i] += array[i-1] + array[i-2]\n",
    "    return array"
   ]
  },
  {
   "cell_type": "code",
   "execution_count": null,
   "metadata": {},
   "outputs": [],
   "source": [
    "def recur_factorial(n):                              #Factorial using recursion\n",
    "   if n == 1:\n",
    "       return n\n",
    "   else:\n",
    "       return n*recur_factorial(n-1)\n",
    "\n",
    "    \n",
    "for i in range(1,n+1):                               #Factorial using loop\n",
    "    fact = fact * i    "
   ]
  },
  {
   "cell_type": "code",
   "execution_count": null,
   "metadata": {},
   "outputs": [],
   "source": [
    "def list_sum(num_List):                              #sum ints in a list using recursion\n",
    "    if len(num_List) == 1:\n",
    "        return num_List[0]\n",
    "    else:\n",
    "        return num_List[0] + list_sum(num_List[1:])"
   ]
  },
  {
   "cell_type": "code",
   "execution_count": null,
   "metadata": {},
   "outputs": [],
   "source": [
    "x1,y1,x2,y2,x3,y3,xp,yp = map(float, input().split())  #check if point in triangle\n",
    "c1 = (x2-x1)*(yp-y1)-(y2-y1)*(xp-x1)\n",
    "c2 = (x3-x2)*(yp-y2)-(y3-y2)*(xp-x2)\n",
    "c3 = (x1-x3)*(yp-y3)-(y1-y3)*(xp-x3)\n",
    "if (c1<0 and c2<0 and c3<0) or (c1>0 and c2>0 and c3>0):\n",
    "    print(\"The point is in the triangle.\")\n",
    "else:\n",
    "    print(\"The point is outside the triangle.\")"
   ]
  },
  {
   "cell_type": "code",
   "execution_count": null,
   "metadata": {},
   "outputs": [],
   "source": [
    "x1, y1,x2, y2, x3, y3, x4, y4 = map(float, input().split())    #check if lines are parallel\n",
    "if abs((x2 - x1)*(y4 - y3) - (x4 - x3)*(y2 - y1)) < 1e-10:\n",
    "    print(\"Parallel\")\n",
    "else:\n",
    "    print('PQ and RS are not parallel')"
   ]
  },
  {
   "cell_type": "code",
   "execution_count": null,
   "metadata": {},
   "outputs": [],
   "source": [
    "# Function to check if two straight                #check if lines are perpendicular\n",
    "# lines are orthogonal or not \n",
    "def checkOrtho(x1, y1, x2, y2, x3, y3, x4, y4): \n",
    "      \n",
    "    # Both lines have infinite slope \n",
    "    if (x2 - x1 == 0 and x4 - x3 == 0): \n",
    "        return False\n",
    "  \n",
    "    # Only line 1 has infinite slope \n",
    "    elif (x2 - x1 == 0): \n",
    "        m2 = (y4 - y3) / (x4 - x3) \n",
    "  \n",
    "        if (m2 == 0): \n",
    "            return True\n",
    "        else: \n",
    "            return False\n",
    "  \n",
    "    # Only line 2 has infinite slope \n",
    "    elif (x4 - x3 == 0): \n",
    "        m1 = (y2 - y1) / (x2 - x1); \n",
    "  \n",
    "        if (m1 == 0): \n",
    "            return True\n",
    "        else: \n",
    "            return False\n",
    "  \n",
    "    else: \n",
    "          \n",
    "        # Find slopes of the lines \n",
    "        m1 = (y2 - y1) / (x2 - x1) \n",
    "        m2 = (y4 - y3) / (x4 - x3) \n",
    "  \n",
    "        # Check if their product is -1 \n",
    "        if (m1 * m2 == -1): \n",
    "            return True\n",
    "        else: \n",
    "            return False"
   ]
  },
  {
   "cell_type": "code",
   "execution_count": 6,
   "metadata": {},
   "outputs": [],
   "source": [
    "def compute_gcd(x, y):               #function to compute GCD\n",
    "    if y==0:\n",
    "        return x\n",
    "    return compute_gcd(y,x%y)\n",
    "\n",
    "def compute_lcm(x, y):              #function to compute LCM\n",
    "    lcm = (x*y)//compute_gcd(x,y)\n",
    "    return lcm\n",
    "\n",
    "print(\"The L.C.M. is\", compute_lcm(num1, num2))"
   ]
  },
  {
   "cell_type": "code",
   "execution_count": null,
   "metadata": {},
   "outputs": [],
   "source": []
  }
 ],
 "metadata": {
  "kernelspec": {
   "display_name": "Python 3",
   "language": "python",
   "name": "python3"
  },
  "language_info": {
   "codemirror_mode": {
    "name": "ipython",
    "version": 3
   },
   "file_extension": ".py",
   "mimetype": "text/x-python",
   "name": "python",
   "nbconvert_exporter": "python",
   "pygments_lexer": "ipython3",
   "version": "3.8.3"
  },
  "toc": {
   "base_numbering": 1,
   "nav_menu": {},
   "number_sections": true,
   "sideBar": true,
   "skip_h1_title": false,
   "title_cell": "Table of Contents",
   "title_sidebar": "Contents",
   "toc_cell": false,
   "toc_position": {},
   "toc_section_display": true,
   "toc_window_display": true
  },
  "varInspector": {
   "cols": {
    "lenName": 16,
    "lenType": 16,
    "lenVar": 40
   },
   "kernels_config": {
    "python": {
     "delete_cmd_postfix": "",
     "delete_cmd_prefix": "del ",
     "library": "var_list.py",
     "varRefreshCmd": "print(var_dic_list())"
    },
    "r": {
     "delete_cmd_postfix": ") ",
     "delete_cmd_prefix": "rm(",
     "library": "var_list.r",
     "varRefreshCmd": "cat(var_dic_list()) "
    }
   },
   "types_to_exclude": [
    "module",
    "function",
    "builtin_function_or_method",
    "instance",
    "_Feature"
   ],
   "window_display": false
  }
 },
 "nbformat": 4,
 "nbformat_minor": 2
}
