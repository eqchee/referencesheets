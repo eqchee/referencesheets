{
 "cells": [
  {
   "cell_type": "markdown",
   "metadata": {},
   "source": [
    "# Regex Reference Sheet"
   ]
  },
  {
   "cell_type": "code",
   "execution_count": null,
   "metadata": {},
   "outputs": [],
   "source": [
    "import re"
   ]
  },
  {
   "cell_type": "markdown",
   "metadata": {},
   "source": [
    "# Metacharacters"
   ]
  },
  {
   "cell_type": "code",
   "execution_count": null,
   "metadata": {},
   "outputs": [],
   "source": [
    ".    #match any character except newline  .* will go all the way to the end and backtrack\n",
    "\\    #Escape special characters. eg: \\. or \\\\ or \\[ to match . or \\ or [ outside of character class\n",
    "\n",
    "#Quantifiers\n",
    "?   #match 0 or 1 repetitions of RE       .*? for shortest match  \n",
    "*   #match 0 or more repetitions of RE   .* for longest match   \n",
    "+   #match 1 or more repetitions of RE\n",
    "{3}    #match exactly 3 copies of previous RE\n",
    "{1,4}  #match from 1 to 4 repetitions of RE (both inclusive)\n",
    "{2,}   #match 2 or more repetitions of RE\n",
    "\n",
    "#Class\n",
    "[ ]   #match a set of characters\n",
    "\n",
    "#Logic\n",
    "'this|that'    #match either this or that\n",
    "\n",
    "#Group\n",
    "(...)    #match RE inside parenthesis and indicate start and end of a group. Access by re.match(..).group(0,1,2)  \n",
    "\\1       #contents of Group 1\n",
    "\\2       #contents of Group 2\n",
    "(?:...)  #non-capturing group\n",
    "\n",
    "#Anchors/Boundaries\n",
    "'^From'   #match start of a string\n",
    "'day$'   #match end of a string or any location followed by a newline character\n",
    "\\b #Word boundary\n",
    "\\B #non-word boundary"
   ]
  },
  {
   "cell_type": "markdown",
   "metadata": {},
   "source": [
    "## Character Class"
   ]
  },
  {
   "cell_type": "code",
   "execution_count": null,
   "metadata": {},
   "outputs": [],
   "source": [
    "#metacharacters are not active inside classes\n",
    "\\d   #Matches any decimal digit; this is equivalent to the class [0-9].\n",
    "\\D   #Matches any non-digit character; this is equivalent to the class [^0-9].\n",
    "\\s   #Matches any whitespace character; this is equivalent to the class [ \\t\\n\\r\\f\\v].\n",
    "\\S   #Matches any non-whitespace character; this is equivalent to the class [^ \\t\\n\\r\\f\\v].\n",
    "\\w   #Matches any alphanumeric character; this is equivalent to the class [a-zA-Z0-9_].\n",
    "\\W   #Matches any non-alphanumeric character; this is equivalent to the class [^a-zA-Z0-9_].\n",
    "\n",
    "[a-c,x-z]  #character is a to c or x to z\n",
    "[^a-c]     #not abc (^ must be the first character)\n",
    "r'\\\\section'  #python will convert \\\\ to \\ and r will leave all \\ as-is in string\n",
    "\n",
    "#class subtraction\n",
    "(?![QK])\\w   #using lookahead to exclude Q,K from character class \\w\n",
    "\\w(?<![QK])   #using lookbehind to exclude Q,K from character class \\w\n",
    "\n",
    "#class intersection\n",
    "(?=[^aeiou])(?=[a-z])  #using lookahead to use intersection of 2 classes\n",
    "    "
   ]
  },
  {
   "cell_type": "markdown",
   "metadata": {},
   "source": [
    "# Lookahead/Lookbehind"
   ]
  },
  {
   "cell_type": "code",
   "execution_count": null,
   "metadata": {},
   "outputs": [],
   "source": [
    "#multiple lookaheads/lookbehinds can look immediately right or left, but they do not alter the position\n",
    "#use .* to look further ahead\n",
    "#can use lookahead to check that it does not contain what we dont want\n",
    "# .*? for shortest match  \n",
    "# .* for longest match   \n",
    "\n",
    "(?=bat)    #positive lookahead assertion\n",
    "(?!bat)    #negative lookahead assertion\n",
    "\n",
    "(?<=bat)   #positive lookbehind\n",
    "(?<!bat)   #negative lookbehind\n",
    "\n",
    "p = re.compile(r'.*[.](?!bat$|exe$)[^.]*$') #negative lookahead to exclude selected words\n",
    "p = re.compile(r'.*[.](?=cf$|conf$).*$')    #positive lookahead to ensure match of selected words\n"
   ]
  },
  {
   "cell_type": "markdown",
   "metadata": {},
   "source": [
    "# Regex Functions"
   ]
  },
  {
   "cell_type": "code",
   "execution_count": null,
   "metadata": {},
   "outputs": [],
   "source": [
    "m1 = re.match(A,B)       #Check if the first instance of pattern A is at the start of string B\n",
    "m1 = re.fullmatch(A,B)   #Check if the whole string B matches pattern A\n",
    "m3 = re.search(A,B)      #Matches the first instance of pattern A in string B\n",
    "m4 = re.findall(A,B)     #Matches all instances of pattern A in string B and returns them in a list (no span)\n",
    "m5 = re.finditer(A,B)    #Creates iterator with all the matches of pattern A in string B, including span\n",
    "m6 = re.split(A,B)       #Split a string B into a list using the delimiter pattern A\n",
    "m7 = re.sub(A,B,C,2)     #Replace pattern A with B in the string C up to first 2 occurences"
   ]
  },
  {
   "cell_type": "code",
   "execution_count": null,
   "metadata": {},
   "outputs": [],
   "source": [
    "p = re.compile('b[a-z]d')             #use ( ) if want to capture values\n",
    "p = re.compile(r'php', re.IGNORECASE) #Perform case-insensitive matching\n",
    "\n",
    "m1 = p.match('bed d bad bd')         #Check if the first instance is at the start of string, return boolean\n",
    "m2 = p.search('b bed d bad bd')      #Matches the first instance of an expression A in a string B, return boolean\n",
    "m3 = p.findall('b bed d bad bd')     #Matches all instances of an expression A in a string B and returns them in a list (no span)\n",
    "m4 = p.finditer('b bed d bad bd')    #Creates iterator with all the matches, including span\n",
    "m5 = p.split('txt_we',3)             #Split string into a list using instances up to first 3 occurences\n",
    "m6 = p.sub('a','txt we', 2)          #Replace instance with 'a' in string up to first 2 occurences\n",
    "m7 = p.subn('a','txt we')            #same as sub() but returns new string and no. of replacements"
   ]
  },
  {
   "cell_type": "markdown",
   "metadata": {},
   "source": [
    "# Groups "
   ]
  },
  {
   "cell_type": "code",
   "execution_count": null,
   "metadata": {},
   "outputs": [],
   "source": [
    "#Un-named groups\n",
    "re.match(\"(a(b)c)d\", \"abcd\").group()          #return entire match\n",
    "re.match(\"(a(b)c)d\", \"abcd\").group(1)         #return group 1\n",
    "re.match(\"(a(b)c)d\", \"abcd\").group(1,2)       #return groups 1 and 2 in tuples\n",
    "re.match(\"(a(b)c)d\", \"abcd\").groups()         #return all groups\n",
    "re.match(\"(a(b)c)d\", \"abcd\").__getitem__(g)   #access specified groups\n",
    "re.match(\"(a(b)c)d\", \"abcd\").start(1)         #return indices of the start of substring matched by group\n",
    "re.match(\"(a(b)c)d\", \"abcd\").end(2)           #return indices of the end of substring matched by group\n",
    "re.match(\"(a(b)c)d\", \"abcd\").span(3)          #return indices of the start and end of substring matched by group \n",
    "re.match(\"(a(b)c)d\", \"abcd\").last-index       #return integer index of last matched capturing group \n",
    "re.match(\"(a(b)c)d\", \"abcd\").last-group       #name of the last matched capturing group\n",
    "\n",
    "#Named groups (?P<name> )\n",
    "m = re.match(r'(?P<first>\\w+) (?P<last>\\w+)', 'John Doe')  #named groups\n",
    "m.group('last')         #to access specific named group \n",
    "m.groupdict()           #to retrieve named groups as dict  \n",
    "\n",
    "#Non-capturing groups  (?: )\n",
    "m = re.match(r'(?:\\w+) (?:\\w+)', 'John Doe')  \n",
    "\n",
    "#Backreferencing (?P=name)\n",
    "m = re.match(r'(\\w+) \\1', 'John Doe')                     #for un-named group\n",
    "m = re.match(r'(?P<first>\\w+) (?P=first)', 'John Doe')    #for named group\n",
    "?P<first>   #to name group\n",
    "?P=first    #to backreference group\n",
    "\n",
    "#Repeat group multiple times\n",
    "([A-Z]_)+   #group will be captured multiple times but will only return the last value captured\n",
    "\n",
    "#to capture all the groups using finditer\n",
    "s = \"bob sue jon richard harry\"\n",
    "r = re.compile('(?P<name>[a-z]+)\\s+(?P<name2>[a-z]+)')\n",
    "[m.groupdict() for m in r.finditer(s)]"
   ]
  },
  {
   "cell_type": "markdown",
   "metadata": {},
   "source": [
    "# Applications"
   ]
  },
  {
   "cell_type": "code",
   "execution_count": null,
   "metadata": {},
   "outputs": [],
   "source": [
    "r\"^\\s*$\"       #find blank lines\n",
    "\n",
    "r\"\\bclass\\b\"   #match exact word where boundary is whitespace of non-alphanumeric character\n",
    "\n",
    "r'^(.*\\.)[^.]+$'   #replace file extension by using r'\\1rar' in re.sub\n",
    "\n",
    "r'^([^-]*)-(.*)'   #remove dash in string by using r'\\1\\2' in re.sub\n",
    "\n",
    "r'(?=\\b\\w{7}\\b)\\w*?hay\\w*'  #7 letter word containing 'hay'\n",
    "\n",
    "r'^(?=.*?\\bbubble\\b).*?\\bgum\\b.*' #check that string contains 'bubble' and 'gum'\n",
    "\n",
    "r'\\bb[ou]y\\b'      #check string contains 'boy' or 'buy'\n",
    "\n",
    "r'\\b(\\w+)\\b\\s+\\1\\b'  #find repeated words\n",
    "r'\\b(?P<word>\\w+)\\s+(?P=word)\\b'  #find repeated words\n",
    "\n",
    "r'^(?!.*boy).*'    #string does not contain 'boy'\n",
    "\n",
    "r'^(?!.*gum)(?!.*bath).*?bubble.*'   #contains bubble but not gum nor bath\n",
    "\n",
    "r'\\b[A-Z0-9._%+-]+@(?:[A-Z0-9-]+\\.)+[A-Z]{2,6}\\b'  #check email address\n",
    "\n",
    "r'(?!boo)[a-z]{3}'    #check that next 3 letters are not 'boo'\n",
    "\n",
    "(?<=[a-z])(?=[A-Z])  #finding location where case changes and use sub to add space\n",
    "\n",
    "(?=(\\w+))            #find all substring of a string\n",
    "\n",
    "(?<=_(?=\\d{2}_))\\d+  #find digits in _12_\n",
    "\n",
    "\\d+(?=_(?!_))        #find digit followed by one underscore only\n",
    "\n",
    "(?<=(?<!_)_)\\d+      #find digit preceded by one underscore only\n",
    "\n",
    "(?=[^a-z]*[a-z])         #contain lowercase\n",
    "(?=(?:[^A-Z]*[A-Z]){3})  #contain 3 uppercase\n",
    "(?=\\D*\\d)                #contain digits\n",
    "\n",
    "r'(?=[^a-z]*[a-z])(?=(?:[^A-Z]*[A-Z]){3})(?=\\D*\\d)\\w{6,10}'  #multiple lookaheads for password\n",
    "\n",
    "r'\\(([^()]*)\\)'   #capture text within parenthesis\n",
    "\n",
    "r'\\[([^]]+)]'     #capture text within square bracket and use r'<\\1>' in sub to replace with < >\n",
    "\n",
    "r'^(?:1(?:[5-9]|\\d\\d+)|[2-9]\\d+)$'   #check if number is above 15\n",
    "\n",
    "r'^(?:peas|onions|carrots)(?:,(?:peas|onions|carrots))*+$'  #check a list is made of certain items\n",
    "\n",
    "r'^(?!0*(?:10*){10}1)[01]+$'  #check that not more than ten 1s \n",
    "\n",
    "r'<+(\\d+)>*|<*(\\d+)>+'         #check for numbers with missing tags and use r'<\\1\\2>' in sub to replace\n",
    "\n",
    "r'(?<!the )(?!the )\\b\\w+\\b'    #exclude words preceded by the and exclude the as well\n",
    "\n",
    "r'^[\\s]*(.*?)[\\s]*$'     #to find leading and trailing spaces \n",
    "\n",
    "r'<([a-z]+)([^<]+)*(?:>(.*)<\\/\\1>|\\s+\\/>)'    #to find html tags\n",
    "\n",
    "r'\\B#(?:[a-fA-F0–9]{6}|[a-fA-F0–9]{3})\\b'     #to find valid hexadecimal value\n",
    "\n",
    "r'\\b[\\w.!#$%&’*+\\/=?^`{|}~-]+@[\\w-]+(?:\\.[\\w-]+)*\\b'  #to find valid email\n",
    "\n",
    "r'/^[a-z0-9_-]{3,16}$/'    #check username: Minimum length of 3, maximum length of 16, composed by letters, numbers or dashes\n",
    "\n",
    "#check password: Minimum length of 6, at least one uppercase letter, at least one lowercase letter, at least one number, at least one special character\n",
    "r'(?=^.{6,}$)((?=.*\\w)(?=.*[A-Z])(?=.*[a-z])(?=.*[0-9])(?=.*[|!\"$%&\\/\\(\\)\\?\\^\\'\\\\\\+\\-\\*]))^.*'  \n",
    "\n",
    "r'^(?=([0-9]*[a-z]){2,})([a-zA-Z0-9]{8,32})$'  #at least 2 letters (uppercase or lowercase) at any index, minimum length of 8, maximum length of 32\n",
    "\n",
    "r'^(((https?|ftp):\\/\\/)?([\\w\\-\\.])+(\\.)([\\w]){2,4}([\\w\\/+=%&_\\.~?\\-]*))*$' #to get website name\n",
    "\n",
    "\n"
   ]
  },
  {
   "cell_type": "markdown",
   "metadata": {},
   "source": [
    "# Using RE in Function"
   ]
  },
  {
   "cell_type": "code",
   "execution_count": 7,
   "metadata": {},
   "outputs": [
    {
     "name": "stdout",
     "output_type": "stream",
     "text": [
      "Call 0xffd2 for printing, 0xc000 for user code.\n"
     ]
    }
   ],
   "source": [
    "def hexrepl(match):\n",
    "    \"Return the hex string for a decimal number\"\n",
    "    value = int(match.group())\n",
    "    return hex(value)\n",
    "\n",
    "p = re.compile(r'\\d+')\n",
    "print(p.sub(hexrepl, 'Call 65490 for printing, 49152 for user code.'))\n"
   ]
  }
 ],
 "metadata": {
  "kernelspec": {
   "display_name": "Python 3",
   "language": "python",
   "name": "python3"
  },
  "language_info": {
   "codemirror_mode": {
    "name": "ipython",
    "version": 3
   },
   "file_extension": ".py",
   "mimetype": "text/x-python",
   "name": "python",
   "nbconvert_exporter": "python",
   "pygments_lexer": "ipython3",
   "version": "3.8.3"
  },
  "toc": {
   "base_numbering": 1,
   "nav_menu": {},
   "number_sections": true,
   "sideBar": true,
   "skip_h1_title": false,
   "title_cell": "Table of Contents",
   "title_sidebar": "Contents",
   "toc_cell": false,
   "toc_position": {},
   "toc_section_display": true,
   "toc_window_display": true
  },
  "varInspector": {
   "cols": {
    "lenName": 16,
    "lenType": 16,
    "lenVar": 40
   },
   "kernels_config": {
    "python": {
     "delete_cmd_postfix": "",
     "delete_cmd_prefix": "del ",
     "library": "var_list.py",
     "varRefreshCmd": "print(var_dic_list())"
    },
    "r": {
     "delete_cmd_postfix": ") ",
     "delete_cmd_prefix": "rm(",
     "library": "var_list.r",
     "varRefreshCmd": "cat(var_dic_list()) "
    }
   },
   "types_to_exclude": [
    "module",
    "function",
    "builtin_function_or_method",
    "instance",
    "_Feature"
   ],
   "window_display": false
  }
 },
 "nbformat": 4,
 "nbformat_minor": 2
}
