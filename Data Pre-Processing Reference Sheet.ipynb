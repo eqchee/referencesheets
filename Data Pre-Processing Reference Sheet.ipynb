{
 "cells": [
  {
   "cell_type": "markdown",
   "metadata": {},
   "source": [
    "# Data Pre-Processing and Visualisation"
   ]
  },
  {
   "cell_type": "code",
   "execution_count": null,
   "metadata": {},
   "outputs": [],
   "source": [
    "import numpy as np\n",
    "import pandas as pd\n",
    "import re\n",
    "import matplotlib.pyplot as plt\n",
    "import seaborn as sns\n",
    "from nltk.corpus import stopwords\n",
    "from textblob import TextBlob\n",
    "from textblob import Word"
   ]
  },
  {
   "cell_type": "markdown",
   "metadata": {},
   "source": [
    "# General Pre-Processing\n",
    "- NA, missing values, convert numbers to int"
   ]
  },
  {
   "cell_type": "code",
   "execution_count": null,
   "metadata": {},
   "outputs": [],
   "source": [
    "missing_values = [\"n/a\", \"na\",\"N.A.\",\"--\"]     #import csv and clean up NA values\n",
    "test = pd.read_csv('exp_tweet_week9.csv',encoding = \"ISO-8859-1\",skiprows = 1,na_values = missing_values)\n",
    "\n",
    "test['text'].replace(np.nan,int(0),inplace = True)     #replace NA text with int(0)\n",
    "\n",
    "test['user_id'].fillna(0,inplace = True)               #fill missing values with 0\n",
    "\n",
    "test['user_id'] = test['user_id'].apply(lambda x: int(x))  #convert numbers to int\n",
    "\n",
    "test['followers'] = test['followers'].apply(lambda x: int(x) if str(x).isnumeric() else int(0)) #convert numbers to int\n",
    "\n",
    "median = test['followers'].median()\n",
    "test['followers'].replace(0, median, inplace=True)   #replace missing numbers with median"
   ]
  },
  {
   "cell_type": "markdown",
   "metadata": {},
   "source": [
    "# Feature Extraction"
   ]
  },
  {
   "cell_type": "markdown",
   "metadata": {},
   "source": [
    "## Numbers (Binning)"
   ]
  },
  {
   "cell_type": "code",
   "execution_count": null,
   "metadata": {},
   "outputs": [],
   "source": [
    "#plot the percentile values\n",
    "values = pd.Series([int(np.percentile(test[\"followers\"],i)) for i in range(10,100,5)])\n",
    "values.plot.bar()\n",
    "print(values)\n",
    "\n",
    "#check last 5% of sorted col\n",
    "test[\"followers\"].sort_values().tail(int(len(test[\"followers\"])*0.05))\n",
    "\n",
    "#binning\n",
    "bins = [mmin, 2085, 95714,  mmax]\n",
    "labels =['low','median','high']\n",
    "test['popularity_bin'] = pd.cut(test['followers'], bins,labels=labels)  #create DF column for binning\n",
    "print(pd.value_counts(test['popularity_bin']))   #to check counts for each bin\n"
   ]
  },
  {
   "cell_type": "markdown",
   "metadata": {},
   "source": [
    "## Text"
   ]
  },
  {
   "cell_type": "code",
   "execution_count": null,
   "metadata": {},
   "outputs": [],
   "source": [
    "p = re.compile('RT\\s*@(?P<target>[^:]*):')\n",
    "test['retweet_target']=test['text'].apply(lambda x: p.match(str(x)).group('target') if p.match(str(x)) else '') #extract retweet\n",
    "\n",
    "tokens = [re.split(r'([\\n][ ]*?[\\n]){1,}',t) for t in tokens]      #using regex to split strings in list\n",
    "\n",
    "tokens = [re.sub(r'U.S.',\"United States\",x) for x in tokens]       #using regex to sub part of string in list\n",
    "\n",
    "test['word_count'] = test['text'].apply(lambda x: len(str(x).split(\" \")))    #number of words\n",
    "\n",
    "test['text']=test['text'].apply(str)              #number of characters including spaces\n",
    "test['char_count'] = test['text'].apply(len)\n",
    "\n",
    "test['char_count'] = test['text'].apply(lambda x: len(\"\".join(str(x).split(\" \"))))   #no. of characters excluding spaces\n",
    "\n",
    "test['avg_word'] = test['text'].apply(lambda x: len(\"\".join(str(x).split(\" \")))/ len(str(x).split(\" \")))  #avg word len\n",
    "\n",
    "test['hastags'] = test['text'].apply(lambda x: len([x for x in x.split() if x.startswith('#')])) #no of hastags\n",
    "\n",
    "test['numerics'] = test['text'].apply(lambda x: len([x for x in x.split() if x.isnumeric()]))    #no of numbers\n",
    "\n",
    "test['upper'] = test['text'].apply(lambda x: len([x for x in x.split() if x.isupper()]))  #no of uppercase words\n",
    "\n",
    "from nltk.corpus import stopwords\n",
    "stop = stopwords.words('english')\n",
    "test['stopwords'] = test['text'].apply(lambda x: len([w for w in x.split() if w in stop]))   #no of stop words"
   ]
  },
  {
   "cell_type": "markdown",
   "metadata": {},
   "source": [
    "# Text Pre-Processing"
   ]
  },
  {
   "cell_type": "code",
   "execution_count": null,
   "metadata": {},
   "outputs": [],
   "source": [
    "import re\n",
    "import nltk\n",
    "from nltk.corpus import stopwords\n",
    "from textblob import TextBlob\n",
    "from textblob import Word\n",
    "\n",
    "#BASIC#\n",
    "\n",
    "#0)break text into sentences\n",
    "tokens = nltk.sent_tokenize(txt)    #tokenize into sentences from txt file\n",
    "#1)change text to lowercase\n",
    "test['text'] = test['text'].apply(lambda x: \" \".join(x.lower() for x in x.split()))  \n",
    "#2)remove punctuation\n",
    "test['text'] = test['text'].str.replace('[^\\w\\s]','')   \n",
    "#3)remove \"rt\" from text [cleanup]\n",
    "test['text'] = test['text'].str.replace('rt\\s\\w+','')   \n",
    "\n",
    "#4)remove stop words\n",
    "from nltk.corpus import stopwords\n",
    "stop = stopwords.words('english')\n",
    "test['text'] = test['text'].apply(lambda x: \" \".join(x for x in x.split() if x not in stop)) \n",
    "\n",
    "#5)remove top 10 freq words\n",
    "freq = pd.Series(' '.join(test['text']).split()).value_counts()[:10]  \n",
    "test['text'] = test['text'].apply(lambda x: \" \".join(x for x in x.split() if x not in freq))   \n",
    "\n",
    "#6)remove top 10 least freq words\n",
    "rare = pd.Series(' '.join(test['text']).split()).value_counts()[-10:]\n",
    "test['text'] = test['text'].apply(lambda x: \" \".join(x for x in x.split() if x not in rare))   \n",
    "\n",
    "#7)correct spelling\n",
    "from textblob import TextBlob\n",
    "test['text'] = test['text'].apply(lambda x: str(TextBlob(x).correct()))   \n",
    "\n",
    "#8)tokenisation\n",
    "TextBlob(test['text'][1]).words       #tokenize into list of words\n",
    "TextBlob(test['text'][1]).sentences   #tokenize into list of sentences\n",
    "\n",
    "#9)stemming (not preferred)\n",
    "from nltk.stem import PorterStemmer\n",
    "st = PorterStemmer()\n",
    "test['text'] = test['text'].apply(lambda x: \" \".join([st.stem(word) for word in x.split()]))   \n",
    "\n",
    "#10)lemmatization\n",
    "from textblob import Word\n",
    "test['text'] = test['text'].apply(lambda x: \" \".join([Word(word).lemmatize() for word in x.split()]))  \n",
    "\n",
    "#ADVANCED#\n",
    "\n",
    "#1)N-grams\n",
    "TextBlob(test['text'][1]).ngrams(2)   \n",
    "\n",
    "\n",
    "#2)to find unique words \n",
    "from sklearn.feature_extraction.text import TfidfVectorizer                           \n",
    "tfidf = TfidfVectorizer(max_features=1000,lowercase=True,analyzer='word',stop_words='english',ngram_range=(1,1))  #build text corpus\n",
    "tfidf.fit(test['freq'])\n",
    "test_vect = tfidf.transform(test['text'])  #get tfidf matrix as sparse matrix. can fit_transform if no existing vocab\n",
    "tfidfmatrix = np.asarray(test_vect.mean(axis=0)).ravel().tolist()      \n",
    "tfidfmatrix = pd.DataFrame({'word': tfidf.get_feature_names(), 'tfidf': tfidfmatrix, 'idf':tfidf.idf_}) #get word, tfidf, idf\n",
    "tfidfmatrix.sort_values(by=[\"tfidf\"],ascending=False)\n",
    "\n",
    "\n",
    "#3)bag of words\n",
    "from sklearn.feature_extraction.text import CountVectorizer                            \n",
    "bow = CountVectorizer(max_features=1000, lowercase=True, ngram_range=(1,1),analyzer = \"word\")\n",
    "train_bow = bow.fit_transform(test['text'])  #get bag of words model\n",
    "wordnet = pd.DataFrame(train_bow.toarray(), index=test.index, columns=bow.get_feature_names())\n",
    "\n",
    "\n",
    "from sklearn.feature_extraction.text import CountVectorizer                   #get freq of bigrams\n",
    "word_vectorizer = CountVectorizer(ngram_range=(2,2), analyzer='word')\n",
    "sparse_matrix = word_vectorizer.fit_transform(df['description'])\n",
    "frequencies = sum(sparse_matrix).toarray()[0]\n",
    "pd.DataFrame(frequencies, index=word_vectorizer.get_feature_names(), columns=['frequency'])\n",
    "\n",
    "\n",
    "#4)check sentiment: returns polarity (1: positive, -1:negative) and subjectivity (0:objective, 1:subjective)\n",
    "test['text'][:5].apply(lambda x: TextBlob(x).sentiment)                     \n",
    "test['sentiment'] = test['text'].apply(lambda x: TextBlob(x).sentiment[0] )  #create col of polarity from sentiment\n",
    "\n",
    "\n",
    "#ALTERNATIVE\n",
    "\n",
    "def get_keywords(row):     \n",
    "    # split into tokens by white space\n",
    "      tokens = row.split()\n",
    "    # prepare regex for char filtering\n",
    "      re_punc = re.compile('[%s]' % re.escape(string.punctuation))\n",
    "    # remove punctuation from each word\n",
    "      tokens = [re_punc.sub('', w) for w in tokens]\n",
    "    # remove remaining tokens that are not alphabetic\n",
    "      tokens = [word for word in tokens if word.isalpha()]\n",
    "    # filter out stop words\n",
    "      stop_words = set(stopwords.words('english'))\n",
    "      tokens = [w for w in tokens if w not in stop_words]\n",
    "    # stemming of words\n",
    "      porter = PorterStemmer()\n",
    "      stemmed = [porter.stem(word) for word in tokens]\n",
    "    # filter out short tokens\n",
    "      tokens = [word for word in tokens if len(word) > 1]\n",
    "      return tokens"
   ]
  },
  {
   "cell_type": "markdown",
   "metadata": {},
   "source": [
    "# TextBlob (Extras)"
   ]
  },
  {
   "cell_type": "code",
   "execution_count": null,
   "metadata": {},
   "outputs": [],
   "source": [
    "z = TextBlob(\"Python is a high-level\")\n",
    "\n",
    "#can apply python string methods\n",
    "z[3:6]  #to slice string\n",
    "z.upper()\n",
    "z.find(\"high\")\n",
    "\n",
    "#eg to access sentences:\n",
    "for sentence in z.sentences:\n",
    "    print(sentence.sentiment)                #sentiment of each sentence\n",
    "    print(sentence.start, sentence.end)      #start and end indices of sentences in textblob\n",
    "    \n",
    "z.words[2].singularize()   #make word @ idx 2 singular\n",
    "z.words.pluralize()        #make all words plural\n",
    "\n",
    "z.words.count('is', case_sensitive=True)   #check freq of words\n",
    "\n",
    "w = Word(\"went\")\n",
    "w.lemmatize(\"v\")       #lemmmatize word to verb\n",
    "\n",
    "w.spellcheck()         #return suggestion via tuples of (word,confidence)"
   ]
  },
  {
   "cell_type": "markdown",
   "metadata": {},
   "source": [
    "## Plotting"
   ]
  },
  {
   "cell_type": "markdown",
   "metadata": {},
   "source": [
    "### Matplotlib"
   ]
  },
  {
   "cell_type": "code",
   "execution_count": null,
   "metadata": {},
   "outputs": [],
   "source": [
    "test['word_count'].iloc[0:20].plot.hist()           #histogram \n",
    "test['word_count'].iloc[0:20].plot.line()           #line graph\n",
    "test['word_count'].iloc[0:20].plot.bar()            #bar graph\n",
    "test['word_count'].iloc[0:20].plot.area()           #area graph\n",
    "test['word_count'].iloc[0:20].plot.box()            #box plot\n",
    "test['popularity_bin'].value_counts().plot.pie()    #pie chart\n",
    "test['word_count'].iloc[0:20].plot.scatter()        #scatter plot\n",
    "\n",
    "\n",
    "import matplotlib.pyplot as plt                        #to plot subplots\n",
    "fig, axs = plt.subplots(2, 2, figsize=(5, 5))          #to set size of plot\n",
    "axs[0, 0].hist(data[0])\n",
    "axs[1, 0].scatter(data[0], data[1])\n",
    "axs[0, 1].plot(data[0], data[1])\n",
    "axs[1, 1].hist2d(data[0], data[1])\n",
    "plt.show()\n",
    "\n",
    "\n",
    "test[\"followers\"].sort_values().tail(int(len(test[\"followers\"])*0.05)).plot.bar()  #plot last 5% of sorted col "
   ]
  },
  {
   "cell_type": "markdown",
   "metadata": {},
   "source": [
    "### Seaborn"
   ]
  },
  {
   "attachments": {
    "image.png": {
     "image/png": "[encoded data removed]"
    }
   },
   "cell_type": "markdown",
   "metadata": {},
   "source": [
    "![image.png](attachment:image.png)"
   ]
  },
  {
   "cell_type": "markdown",
   "metadata": {},
   "source": [
    "#### Relational\n",
    "- Visualise the relationship between 2 or more variables\n",
    "- hue, style, size allows up to 3 additional variables to be plotted. if too cluttered, use relplot"
   ]
  },
  {
   "cell_type": "code",
   "execution_count": null,
   "metadata": {},
   "outputs": [],
   "source": [
    "#scatter plot: show relationship between two variables\n",
    "sns.scatterplot(data=tips, x=\"total_bill\", y=\"tip\", hue=\"day\", style=\"time\") #vary color by day, vary marker by time\n",
    "sns.scatterplot(data=tips, x=\"total_bill\", y=\"tip\", hue=\"size\", size=\"size\") #vary color by size, vary marker size by size\n",
    "\n",
    "#line of best fit for different groups: understand how two variables change with respect to each other w/ 95% confidence interval\n",
    "sns.lmplot(x=\"total_bill\", y=\"tip\", hue=\"smoker\", data=tips) \n",
    "sns.lmplot(x=\"total_bill\", y=\"tip\", hue=\"smoker\", col=\"time\", row=\"sex\", data=tips) #multiple plots\n",
    "\n",
    "#line plot: variation of one variable over another continuous variable (eg time)\n",
    "sns.lineplot(data=flights, x=\"year\", y=\"passengers\", hue=\"month\", style=\"month\")\n",
    "\n",
    "#correlation matrix (heatmap): correlation metric between all possible pairs of numeric variables\n",
    "sns.heatmap(test.corr(), square=True)\n",
    "\n",
    "#relplot: multiple plots to show variance of other variables to minimise clutter\n",
    "sns.relplot(x=\"total_bill\", y=\"tip\", hue=\"smoker\", col=\"time\", row=\"day\", data=tips) #col of graphs due to time, row of graphs due to day\n"
   ]
  },
  {
   "cell_type": "markdown",
   "metadata": {},
   "source": [
    "#### Distribution\n",
    "- visualise frequency distribution \n",
    "- hue allows up to 1 additional variables to be plotted"
   ]
  },
  {
   "cell_type": "code",
   "execution_count": null,
   "metadata": {},
   "outputs": [],
   "source": [
    "#Univariate distribution\n",
    "\n",
    "#histogram: frequency distribution of a given continuous/discrete variable w/ binning\n",
    "#hard to see when too many variables are involved\n",
    "sns.displot(penguins, x=\"flipper_length_mm\", bins=20, hue=\"species\") #specify no. of bins and color by species\n",
    "\n",
    "#kernel density estimation (KDE): frequency distribution of a given continuous/discrete variable w/o binning\n",
    "#Important features of the data are easy to discern (central tendency, bimodality, skew)\n",
    "#Afford easy comparisons between subsets. \n",
    "#KDE might poorly represent data. KDE will always show a smooth curve, even when the data themselves are not smooth. \n",
    "#Unrealistic data could appear (eg. negative values)\n",
    "sns.displot(penguins, x=\"flipper_length_mm\", hue=\"species\", kind=\"kde\", fill=True)   #color by species\n",
    "\n",
    "\n",
    "#Bivariate distribution\n",
    "\n",
    "#bivariate histogram: like heatmap\n",
    "sns.displot(penguins, x=\"bill_length_mm\", y=\"bill_depth_mm\", hue=\"species\", rug=True) #rug to show actual observations\n",
    "\n",
    "#kde:\n",
    "sns.displot(penguins, x=\"bill_length_mm\", y=\"bill_depth_mm\", hue=\"species\", kind=\"kde\")\n",
    "\n",
    "#by default: bivariate dist using scatterplot and marginal dist using histplot\n",
    "sns.jointplot(data=penguins, x=\"bill_length_mm\", y=\"bill_depth_mm\", hue=\"species\", kind=\"kde\")\n",
    "sns.jointplot(data=penguins, x=\"bill_length_mm\", y=\"bill_depth_mm\", hue=\"species\", kind=\"hex\")\n",
    "\n",
    "\n",
    "#pairwise plot: understand the relationship between all possible pairs of numeric variables (bivariate analysis)\n",
    "sns.pairplot(df, kind=\"scatter\", hue=\"species\")"
   ]
  },
  {
   "cell_type": "markdown",
   "metadata": {},
   "source": [
    "#### Categorical\n",
    "- hue allows up to 1 additional variables to be plotted"
   ]
  },
  {
   "cell_type": "code",
   "execution_count": null,
   "metadata": {},
   "outputs": [],
   "source": [
    "#Scatterplot\n",
    "sns.catplot(x=\"day\", y=\"total_bill\", jitter=False, data=tips) #jitter=True to show overlapping points\n",
    "sns.catplot(x=\"day\", y=\"total_bill\", hue=\"sex\", kind=\"swarm\", data=tips)  #to avoid overlapping of points\n",
    "sns.catplot(x=\"popularity_bin\", y=\"avg_word\", kind = \"swarm\", col = \"retweet_tag\", data = test)  #separate graph to show col\n",
    "sns.catplot(x=\"smoker\", y=\"tip\", order=[\"No\", \"Yes\"], data=tips)  #to set the order of the categories\n",
    "\n",
    "\n",
    "\n",
    "#Distribution plot\n",
    "\n",
    "#box plot: This kind of plot shows the three quartile values of the distribution along with extreme values\n",
    "sns.catplot(x=\"day\", y=\"total_bill\", hue=\"smoker\", kind=\"box\", data=tips)\n",
    "\n",
    "#boxen plot: similar to a box plot but optimized for showing more information about the shape of the distribution. \n",
    "#It is best suited for larger datasets\n",
    "sns.catplot(x=\"color\", y=\"price\", kind=\"boxen\", data=diamonds.sort_values(\"color\"))\n",
    "\n",
    "#violin plot: boxplot with the kernel density estimation\n",
    "sns.catplot(x=\"total_bill\", y=\"day\", hue=\"sex\", kind=\"violin\", data=tips)\n",
    "sns.catplot(x=\"day\", y=\"total_bill\", hue=\"sex\",kind=\"violin\", inner=\"stick\", split=True, data=tips) #“split” the violins when the hue parameter has only two levels, which can allow for a more efficient use of space. Sticks to show actual observations\n",
    "\n",
    "#combine swarmplot and boxplot/violinplot\n",
    "g = sns.catplot(x=\"popularity_bin\", y=\"word_count\", hue = \"retweet_tag\", kind = \"violin\", split = True,data=test)\n",
    "sns.catplot(x=\"popularity_bin\", y=\"word_count\", hue = \"retweet_tag\", kind = \"swarm\", ax=g.ax,  data=test)\n",
    "\n",
    "\n",
    "\n",
    "#Estimate plot\n",
    "\n",
    "#bar plot: show mean of each category\n",
    "sns.catplot(x=\"sex\", y=\"survived\", hue=\"class\", kind=\"bar\", data=titanic)\n",
    "\n",
    "#count plot: number of observations in each category\n",
    "sns.catplot(x=\"deck\", kind=\"count\", data=titanic)\n",
    "\n",
    "#point plot: plots the point estimate and confidence interval, connects points from the same hue category.\n",
    "sns.catplot(x=\"sex\", y=\"survived\", hue=\"class\", kind=\"point\", data=titanic)\n",
    "\n",
    "\n",
    "\n",
    "#Multiple plots\n",
    "sns.catplot(x=\"day\", y=\"total_bill\", hue=\"smoker\", col=\"time\", kind=\"swarm\", data=tips)\n"
   ]
  },
  {
   "cell_type": "markdown",
   "metadata": {},
   "source": [
    "#### Others"
   ]
  },
  {
   "cell_type": "code",
   "execution_count": null,
   "metadata": {},
   "outputs": [],
   "source": [
    "#Deviation: visualize the variance based on a single metric\n",
    "\n",
    "#diverging bars: see how  items are varying based on a single metric and visualize the order and amount of this variance\n",
    "df['mpg_z'] = (x - x.mean())/x.std()\n",
    "df['colors'] = ['red' if x < 0 else 'green' for x in df['mpg_z']]\n",
    "df.sort_values('mpg_z', inplace=True)\n",
    "df.reset_index(inplace=True)\n",
    "plt.hlines(y=df.index, xmin=0, xmax=df.mpg_z, color=df.colors, alpha=0.4, linewidth=5)"
   ]
  },
  {
   "cell_type": "code",
   "execution_count": null,
   "metadata": {},
   "outputs": [],
   "source": [
    "#Ranking\n",
    "    \n",
    "#ordered bar chart: convey the rank order of the items effectively\n",
    "df = df_raw[['cty', 'manufacturer']].groupby('manufacturer').apply(lambda x: x.mean())\n",
    "df.sort_values('cty', inplace=True)\n",
    "df.reset_index(inplace=True)\n",
    "plt.vlines(x=df.index, ymin=0, ymax=df.cty, color='firebrick', alpha=0.7, linewidth=20)"
   ]
  },
  {
   "cell_type": "markdown",
   "metadata": {},
   "source": [
    "# Stats Concepts"
   ]
  },
  {
   "cell_type": "markdown",
   "metadata": {},
   "source": [
    "In statistics, a central tendency (or measure of central tendency) is a central or typical value for a probability distribution.[1] It may also be called a center or location of the distribution. The most common measures of central tendency are the arithmetic mean, the median, and the mode. \n",
    "\n",
    "In statistics, a Multimodal distribution is a probability distribution with two different modes, which may also be referred to as a bimodal distribution. These appear as distinct peaks (local maxima) in the probability density function.\n",
    "\n",
    "In probability theory and statistics, skewness is a measure of the asymmetry of the probability distribution of a real-valued random variable about its mean. For a unimodal distribution, negative skew commonly indicates that the tail is on the left side of the distribution, and positive skew indicates that the tail is on the right. "
   ]
  }
 ],
 "metadata": {
  "kernelspec": {
   "display_name": "Python 3",
   "language": "python",
   "name": "python3"
  },
  "language_info": {
   "codemirror_mode": {
    "name": "ipython",
    "version": 3
   },
   "file_extension": ".py",
   "mimetype": "text/x-python",
   "name": "python",
   "nbconvert_exporter": "python",
   "pygments_lexer": "ipython3",
   "version": "3.8.3"
  },
  "toc": {
   "base_numbering": 1,
   "nav_menu": {},
   "number_sections": true,
   "sideBar": true,
   "skip_h1_title": false,
   "title_cell": "Table of Contents",
   "title_sidebar": "Contents",
   "toc_cell": false,
   "toc_position": {},
   "toc_section_display": true,
   "toc_window_display": true
  },
  "varInspector": {
   "cols": {
    "lenName": 16,
    "lenType": 16,
    "lenVar": 40
   },
   "kernels_config": {
    "python": {
     "delete_cmd_postfix": "",
     "delete_cmd_prefix": "del ",
     "library": "var_list.py",
     "varRefreshCmd": "print(var_dic_list())"
    },
    "r": {
     "delete_cmd_postfix": ") ",
     "delete_cmd_prefix": "rm(",
     "library": "var_list.r",
     "varRefreshCmd": "cat(var_dic_list()) "
    }
   },
   "types_to_exclude": [
    "module",
    "function",
    "builtin_function_or_method",
    "instance",
    "_Feature"
   ],
   "window_display": false
  }
 },
 "nbformat": 4,
 "nbformat_minor": 2
}
